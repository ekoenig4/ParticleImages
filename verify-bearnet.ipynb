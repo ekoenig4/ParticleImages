{
 "cells": [
  {
   "cell_type": "code",
   "execution_count": 1,
   "metadata": {},
   "outputs": [],
   "source": [
    "import numpy as np\n",
    "np.random.seed(1337)  # for reproducibility\n",
    "\n",
    "import tensorflow.keras as keras\n",
    "from tensorflow.keras.utils import to_categorical\n",
    "\n",
    "import matplotlib.pyplot as plt\n",
    "import pickle\n",
    "\n",
    "import utils as pic\n",
    "    \n",
    "%load_ext autoreload\n",
    "%autoreload 2"
   ]
  },
  {
   "cell_type": "code",
   "execution_count": 2,
   "metadata": {},
   "outputs": [],
   "source": [
    "lr_init     = 1.e-5    # Initial learning rate  \n",
    "batch_size  = 100       # Training batch size\n",
    "train_size  = 4000     # Training size\n",
    "valid_size  = 1000     # Validation size\n",
    "test_size   = 1000     # Test size\n",
    "epochs      = 20       # Number of epochs\n",
    "doGPU       = False    # Use GPU\n",
    "tmin        = -0.1    # Minimum time cutoff\n",
    "tmax        = 0.1     # Maximum time cutoff\n",
    "tstep       = 0.0099   # Time steps"
   ]
  },
  {
   "cell_type": "code",
   "execution_count": 3,
   "metadata": {},
   "outputs": [],
   "source": [
    "# Set range of training set\n",
    "train_start, train_stop = 0, train_size\n",
    "assert train_stop > train_start\n",
    "assert (len(pic.decays)*train_size) % batch_size == 0\n",
    "X_train, y_train = pic.load_data(train_start,train_stop)\n",
    "\n",
    "# Set range of validation set\n",
    "valid_start, valid_stop = 160000, 160000+valid_size\n",
    "assert valid_stop  >  valid_start\n",
    "assert valid_start >= train_stop\n",
    "X_valid, y_valid = pic.load_data(valid_start,valid_stop)\n",
    "\n",
    "# Set range of test set\n",
    "test_start, test_stop = 204800, 204800+test_size\n",
    "assert test_stop  >  test_start\n",
    "assert test_start >= valid_stop\n",
    "X_test, y_test = pic.load_data(test_start,test_stop)\n",
    "\n",
    "samples_requested = len(pic.decays) * (train_size + valid_size + test_size)\n",
    "samples_available = len(y_train) + len(y_valid) + len(y_test)\n",
    "assert samples_requested == samples_available"
   ]
  },
  {
   "cell_type": "code",
   "execution_count": 4,
   "metadata": {},
   "outputs": [],
   "source": [
    "y_b_train = to_categorical(y_train)"
   ]
  },
  {
   "cell_type": "code",
   "execution_count": 5,
   "metadata": {},
   "outputs": [],
   "source": [
    "y_b_valid = to_categorical(y_valid)\n"
   ]
  },
  {
   "cell_type": "code",
   "execution_count": 6,
   "metadata": {},
   "outputs": [],
   "source": [
    "y_b_test = to_categorical(y_test)\n"
   ]
  },
  {
   "cell_type": "code",
   "execution_count": 7,
   "metadata": {},
   "outputs": [],
   "source": [
    "modeldir = 'models/bearnet-truncated/'\n",
    "# modeldir = 'models/crnn-1.00e-01-9.90e-03/'\n",
    "model = keras.models.load_model(modeldir)\n",
    "with open(f'{modeldir}/history.pkl','rb') as f_history: history = pickle.load(f_history)"
   ]
  },
  {
   "cell_type": "code",
   "execution_count": 8,
   "metadata": {},
   "outputs": [
    {
     "name": "stdout",
     "output_type": "stream",
     "text": [
      "Model: \"inception_v1\"\n",
      "__________________________________________________________________________________________________\n",
      " Layer (type)                   Output Shape         Param #     Connected to                     \n",
      "==================================================================================================\n",
      " input_1 (InputLayer)           [(None, 32, 32, 1)]  0           []                               \n",
      "                                                                                                  \n",
      " conv_1_3x3 (Conv2D)            (None, 32, 32, 32)   320         ['input_1[0][0]']                \n",
      "                                                                                                  \n",
      " max_pool_1_3x3 (MaxPooling2D)  (None, 16, 16, 32)   0           ['conv_1_3x3[0][0]']             \n",
      "                                                                                                  \n",
      " conv_2a_2x2 (Conv2D)           (None, 16, 16, 32)   4128        ['max_pool_1_3x3[0][0]']         \n",
      "                                                                                                  \n",
      " conv_2b_2x2 (Conv2D)           (None, 16, 16, 96)   12384       ['conv_2a_2x2[0][0]']            \n",
      "                                                                                                  \n",
      " max_pool_2_2x2/2 (MaxPooling2D  (None, 16, 16, 96)  0           ['conv_2b_2x2[0][0]']            \n",
      " )                                                                                                \n",
      "                                                                                                  \n",
      " conv2d_1 (Conv2D)              (None, 16, 16, 48)   4656        ['max_pool_2_2x2/2[0][0]']       \n",
      "                                                                                                  \n",
      " conv2d_3 (Conv2D)              (None, 16, 16, 16)   1552        ['max_pool_2_2x2/2[0][0]']       \n",
      "                                                                                                  \n",
      " max_pooling2d (MaxPooling2D)   (None, 16, 16, 96)   0           ['max_pool_2_2x2/2[0][0]']       \n",
      "                                                                                                  \n",
      " conv2d (Conv2D)                (None, 16, 16, 32)   3104        ['max_pool_2_2x2/2[0][0]']       \n",
      "                                                                                                  \n",
      " conv2d_2 (Conv2D)              (None, 16, 16, 64)   27712       ['conv2d_1[0][0]']               \n",
      "                                                                                                  \n",
      " conv2d_4 (Conv2D)              (None, 16, 16, 16)   6416        ['conv2d_3[0][0]']               \n",
      "                                                                                                  \n",
      " conv2d_5 (Conv2D)              (None, 16, 16, 16)   1552        ['max_pooling2d[0][0]']          \n",
      "                                                                                                  \n",
      " inception_3a (Concatenate)     (None, 16, 16, 128)  0           ['conv2d[0][0]',                 \n",
      "                                                                  'conv2d_2[0][0]',               \n",
      "                                                                  'conv2d_4[0][0]',               \n",
      "                                                                  'conv2d_5[0][0]']               \n",
      "                                                                                                  \n",
      " conv2d_7 (Conv2D)              (None, 16, 16, 64)   8256        ['inception_3a[0][0]']           \n",
      "                                                                                                  \n",
      " conv2d_9 (Conv2D)              (None, 16, 16, 16)   2064        ['inception_3a[0][0]']           \n",
      "                                                                                                  \n",
      " max_pooling2d_1 (MaxPooling2D)  (None, 16, 16, 128)  0          ['inception_3a[0][0]']           \n",
      "                                                                                                  \n",
      " conv2d_6 (Conv2D)              (None, 16, 16, 64)   8256        ['inception_3a[0][0]']           \n",
      "                                                                                                  \n",
      " conv2d_8 (Conv2D)              (None, 16, 16, 96)   55392       ['conv2d_7[0][0]']               \n",
      "                                                                                                  \n",
      " conv2d_10 (Conv2D)             (None, 16, 16, 48)   19248       ['conv2d_9[0][0]']               \n",
      "                                                                                                  \n",
      " conv2d_11 (Conv2D)             (None, 16, 16, 32)   4128        ['max_pooling2d_1[0][0]']        \n",
      "                                                                                                  \n",
      " inception_3b (Concatenate)     (None, 16, 16, 240)  0           ['conv2d_6[0][0]',               \n",
      "                                                                  'conv2d_8[0][0]',               \n",
      "                                                                  'conv2d_10[0][0]',              \n",
      "                                                                  'conv2d_11[0][0]']              \n",
      "                                                                                                  \n",
      " max_pool_3_2x2/2 (MaxPooling2D  (None, 8, 8, 240)   0           ['inception_3b[0][0]']           \n",
      " )                                                                                                \n",
      "                                                                                                  \n",
      " conv2d_13 (Conv2D)             (None, 8, 8, 48)     11568       ['max_pool_3_2x2/2[0][0]']       \n",
      "                                                                                                  \n",
      " conv2d_15 (Conv2D)             (None, 8, 8, 16)     3856        ['max_pool_3_2x2/2[0][0]']       \n",
      "                                                                                                  \n",
      " max_pooling2d_2 (MaxPooling2D)  (None, 8, 8, 240)   0           ['max_pool_3_2x2/2[0][0]']       \n",
      "                                                                                                  \n",
      " conv2d_12 (Conv2D)             (None, 8, 8, 96)     23136       ['max_pool_3_2x2/2[0][0]']       \n",
      "                                                                                                  \n",
      " conv2d_14 (Conv2D)             (None, 8, 8, 104)    45032       ['conv2d_13[0][0]']              \n",
      "                                                                                                  \n",
      " conv2d_16 (Conv2D)             (None, 8, 8, 24)     9624        ['conv2d_15[0][0]']              \n",
      "                                                                                                  \n",
      " conv2d_17 (Conv2D)             (None, 8, 8, 32)     7712        ['max_pooling2d_2[0][0]']        \n",
      "                                                                                                  \n",
      " inception_4a (Concatenate)     (None, 8, 8, 256)    0           ['conv2d_12[0][0]',              \n",
      "                                                                  'conv2d_14[0][0]',              \n",
      "                                                                  'conv2d_16[0][0]',              \n",
      "                                                                  'conv2d_17[0][0]']              \n",
      "                                                                                                  \n",
      " average_pooling2d (AveragePool  (None, 4, 4, 256)   0           ['inception_4a[0][0]']           \n",
      " ing2D)                                                                                           \n",
      "                                                                                                  \n",
      " conv2d_18 (Conv2D)             (None, 4, 4, 128)    32896       ['average_pooling2d[0][0]']      \n",
      "                                                                                                  \n",
      " flatten (Flatten)              (None, 2048)         0           ['conv2d_18[0][0]']              \n",
      "                                                                                                  \n",
      " dense (Dense)                  (None, 1024)         2098176     ['flatten[0][0]']                \n",
      "                                                                                                  \n",
      " dropout (Dropout)              (None, 1024)         0           ['dense[0][0]']                  \n",
      "                                                                                                  \n",
      " output (Dense)                 (None, 2)            2050        ['dropout[0][0]']                \n",
      "                                                                                                  \n",
      "==================================================================================================\n",
      "Total params: 2,393,218\n",
      "Trainable params: 2,393,218\n",
      "Non-trainable params: 0\n",
      "__________________________________________________________________________________________________\n"
     ]
    }
   ],
   "source": [
    "model.summary()"
   ]
  },
  {
   "cell_type": "code",
   "execution_count": 9,
   "metadata": {},
   "outputs": [
    {
     "data": {
      "image/png": "[encoded data removed]",
      "text/plain": [
       "<Figure size 432x288 with 1 Axes>"
      ]
     },
     "metadata": {
      "needs_background": "light"
     },
     "output_type": "display_data"
    }
   ],
   "source": [
    "pic.plot_history(history,'accuracy')"
   ]
  },
  {
   "cell_type": "code",
   "execution_count": 10,
   "metadata": {},
   "outputs": [
    {
     "data": {
      "image/png": "[encoded data removed]",
      "text/plain": [
       "<Figure size 432x288 with 1 Axes>"
      ]
     },
     "metadata": {
      "needs_background": "light"
     },
     "output_type": "display_data"
    }
   ],
   "source": [
    "%matplotlib inline\n",
    "pic.plot_roc(y_b_test[:,0], model.predict(X_test[:,:,:,0])[:,0])"
   ]
  },
  {
   "cell_type": "code",
   "execution_count": null,
   "metadata": {},
   "outputs": [],
   "source": [
    "    "
   ]
  }
 ],
 "metadata": {
  "interpreter": {
   "hash": "0dc50badf6bcf34ee37feb4ddab24eb1b71716d96fc6cae89d10c22f5e3462c0"
  },
  "kernelspec": {
   "display_name": "Python 3.8.10 64-bit ('base': conda)",
   "language": "python",
   "name": "python3"
  },
  "language_info": {
   "codemirror_mode": {
    "name": "ipython",
    "version": 3
   },
   "file_extension": ".py",
   "mimetype": "text/x-python",
   "name": "python",
   "nbconvert_exporter": "python",
   "pygments_lexer": "ipython3",
   "version": "3.8.10"
  },
  "orig_nbformat": 4
 },
 "nbformat": 4,
 "nbformat_minor": 2
}
