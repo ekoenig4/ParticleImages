{
 "cells": [
  {
   "cell_type": "code",
   "execution_count": 1,
   "metadata": {},
   "outputs": [],
   "source": [
    "import numpy as np\n",
    "import awkward as ak\n",
    "np.random.seed(1337)  # for reproducibility\n",
    "\n",
    "from tensorflow import keras \n",
    "from tensorflow.keras import layers\n",
    "from tensorflow.keras.utils import to_categorical\n",
    "from tensorflow.keras import optimizers\n",
    "from keras.utils.vis_utils import plot_model\n",
    "\n",
    "from sklearn.metrics import roc_curve, auc, confusion_matrix\n",
    "\n",
    "import matplotlib.pyplot as plt\n",
    "import gc\n",
    "\n",
    "import utils as pic\n",
    "\n",
    "%load_ext autoreload\n",
    "%autoreload 2"
   ]
  },
  {
   "cell_type": "code",
   "execution_count": 3,
   "metadata": {},
   "outputs": [],
   "source": [
    "lr_init     = 1.e-5    # Initial learning rate  \n",
    "batch_size  = 100       # Training batch size\n",
    "train_size  = 2000     # Training size\n",
    "valid_size  = 1000     # Validation size\n",
    "test_size   = 1000     # Test size\n",
    "epochs      = 20       # Number of epochs\n",
    "doGPU       = False    # Use GPU\n",
    "tmin        = -0.1    # Minimum time cutoff\n",
    "tmax        = 0.1     # Maximum time cutoff\n",
    "tstep       = 0.0085   # Time steps"
   ]
  },
  {
   "cell_type": "code",
   "execution_count": 4,
   "metadata": {},
   "outputs": [],
   "source": [
    "# Set range of training set\n",
    "train_start, train_stop = 0, train_size\n",
    "assert train_stop > train_start\n",
    "assert (len(pic.decays)*train_size) % batch_size == 0\n",
    "X_train, y_train = pic.load_data(train_start,train_stop)\n",
    "\n",
    "# Set range of validation set\n",
    "valid_start, valid_stop = 160000, 160000+valid_size\n",
    "assert valid_stop  >  valid_start\n",
    "assert valid_start >= train_stop\n",
    "X_valid, y_valid = pic.load_data(valid_start,valid_stop)\n",
    "\n",
    "# Set range of test set\n",
    "test_start, test_stop = 204800, 204800+test_size\n",
    "assert test_stop  >  test_start\n",
    "assert test_start >= valid_stop\n",
    "X_test, y_test = pic.load_data(test_start,test_stop)\n",
    "\n",
    "samples_requested = len(pic.decays) * (train_size + valid_size + test_size)\n",
    "samples_available = len(y_train) + len(y_valid) + len(y_test)\n",
    "assert samples_requested == samples_available"
   ]
  },
  {
   "cell_type": "code",
   "execution_count": 5,
   "metadata": {},
   "outputs": [],
   "source": [
    "X_train, X_t_train, maxframes, time_bins = pic.timeordered_BC(X_train, cumulative=True, min_t=tmin, max_t=tmax, t_step=tstep )\n",
    "\n",
    "scaler = pic.MinMaxScaler(0.001).fit(X_train)\n",
    "X_train = scaler.transform(X_train)\n",
    "y_b_train = to_categorical(y_train)"
   ]
  },
  {
   "cell_type": "code",
   "execution_count": 6,
   "metadata": {},
   "outputs": [],
   "source": [
    "X_valid, X_t_valid, maxframes, time_bins = pic.timeordered_BC(X_valid, cumulative=True, min_t=tmin, max_t=tmax, t_step=tstep )\n",
    "X_valid = scaler.transform(X_valid)\n",
    "y_b_valid = to_categorical(y_valid)\n"
   ]
  },
  {
   "cell_type": "code",
   "execution_count": 7,
   "metadata": {},
   "outputs": [],
   "source": [
    "X_test, X_t_test, _, _ = pic.timeordered_BC(X_test, cumulative=True, min_t=tmin, max_t=tmax, t_step=tstep)\n",
    "X_test = scaler.transform(X_test)\n",
    "y_b_test = to_categorical(y_test)\n"
   ]
  },
  {
   "cell_type": "code",
   "execution_count": 9,
   "metadata": {},
   "outputs": [
    {
     "name": "stdout",
     "output_type": "stream",
     "text": [
      "Model: \"model\"\n",
      "_________________________________________________________________\n",
      "Layer (type)                 Output Shape              Param #   \n",
      "=================================================================\n",
      "input_2 (InputLayer)         [(None, 24, 32, 32)]      0         \n",
      "_________________________________________________________________\n",
      "reshape_2 (Reshape)          (None, 24, 32, 32, 1)     0         \n",
      "_________________________________________________________________\n",
      "conv3d_5 (Conv3D)            (None, 24, 32, 32, 16)    432       \n",
      "_________________________________________________________________\n",
      "re_lu_4 (ReLU)               (None, 24, 32, 32, 16)    0         \n",
      "_________________________________________________________________\n",
      "max_pooling3d_2 (MaxPooling3 (None, 12, 16, 16, 16)    0         \n",
      "_________________________________________________________________\n",
      "conv3d_6 (Conv3D)            (None, 12, 16, 16, 8)     3456      \n",
      "_________________________________________________________________\n",
      "re_lu_5 (ReLU)               (None, 12, 16, 16, 8)     0         \n",
      "_________________________________________________________________\n",
      "max_pooling3d_3 (MaxPooling3 (None, 6, 8, 8, 8)        0         \n",
      "_________________________________________________________________\n",
      "conv3d_7 (Conv3D)            (None, 6, 8, 8, 8)        1728      \n",
      "_________________________________________________________________\n",
      "re_lu_6 (ReLU)               (None, 6, 8, 8, 8)        0         \n",
      "_________________________________________________________________\n",
      "up_sampling3d_2 (UpSampling3 (None, 12, 16, 16, 8)     0         \n",
      "_________________________________________________________________\n",
      "conv3d_8 (Conv3D)            (None, 12, 16, 16, 16)    3456      \n",
      "_________________________________________________________________\n",
      "re_lu_7 (ReLU)               (None, 12, 16, 16, 16)    0         \n",
      "_________________________________________________________________\n",
      "up_sampling3d_3 (UpSampling3 (None, 24, 32, 32, 16)    0         \n",
      "_________________________________________________________________\n",
      "conv3d_9 (Conv3D)            (None, 24, 32, 32, 1)     432       \n",
      "_________________________________________________________________\n",
      "reshape_3 (Reshape)          (None, 24, 32, 32)        0         \n",
      "=================================================================\n",
      "Total params: 9,504\n",
      "Trainable params: 9,504\n",
      "Non-trainable params: 0\n",
      "_________________________________________________________________\n"
     ]
    }
   ],
   "source": [
    "input_img = keras.Input(shape=(maxframes, 32, 32)) # shape (24,32,32,1)\n",
    "\n",
    "def encoding_layer(previous,nfilters,conv_shape,pool_shape):\n",
    "    x = layers.Conv3D(nfilters, conv_shape, padding='same', use_bias=False)(previous)\n",
    "    x = layers.ReLU()(x)\n",
    "    encoded = layers.MaxPooling3D(pool_shape, padding='same')(x)\n",
    "    return encoded\n",
    "\n",
    "# Encoder\n",
    "x = layers.Reshape((maxframes, 32, 32, 1))(input_img)\n",
    "encoded = encoding_layer(x,16,3,2)\n",
    "encoded = encoding_layer(encoded,8,3,2)\n",
    "# encoded = encoding_layer(encoded,8,3,2)\n",
    "# Encoded shape (3,4,4,8)\n",
    "\n",
    "def decoding_layer(previous,nfilters,conv_shape,samp_shape):\n",
    "    x = layers.Conv3D(nfilters,conv_shape, padding='same', use_bias=False)(previous)\n",
    "    x = layers.ReLU()(x)\n",
    "    decoded = layers.UpSampling3D(samp_shape)(x)\n",
    "    return decoded\n",
    "\n",
    "# decoded = decoding_layer(encoded,8,3,2)\n",
    "decoded = decoding_layer(encoded,8,3,2)\n",
    "decoded = decoding_layer(decoded,16,3,2)\n",
    "decoded = layers.Conv3D(1, (3, 3, 3), activation='relu', padding='same', use_bias=False)(decoded)\n",
    "decoded = layers.Reshape((maxframes, 32, 32))(decoded)\n",
    "# Decoded shape (24,32,32,1)\n",
    "\n",
    "autoencoder = keras.Model(input_img, decoded)\n",
    "autoencoder.summary()\n"
   ]
  },
  {
   "cell_type": "code",
   "execution_count": 10,
   "metadata": {},
   "outputs": [],
   "source": [
    "autoencoder.compile(loss='binary_crossentropy', optimizer=optimizers.Adam(learning_rate=lr_init),metrics=['accuracy'])"
   ]
  },
  {
   "cell_type": "code",
   "execution_count": 11,
   "metadata": {},
   "outputs": [
    {
     "name": "stdout",
     "output_type": "stream",
     "text": [
      "Epoch 1/2\n",
      "80/80 [==============================] - 204s 3s/step - loss: 0.0046 - accuracy: 0.0455 - val_loss: 0.0037 - val_accuracy: 0.0477\n",
      "Epoch 2/2\n",
      "80/80 [==============================] - 196s 2s/step - loss: 0.0034 - accuracy: 0.0513 - val_loss: 0.0031 - val_accuracy: 0.0520\n"
     ]
    }
   ],
   "source": [
    "history = autoencoder.fit(\n",
    "    X_train, X_train,\n",
    "    validation_data=(X_valid,X_valid),\n",
    "    epochs=2,\n",
    "    batch_size=50,\n",
    "    shuffle=True,\n",
    "    verbose=1\n",
    ")"
   ]
  },
  {
   "cell_type": "code",
   "execution_count": 12,
   "metadata": {},
   "outputs": [
    {
     "data": {
      "text/plain": [
       "1597"
      ]
     },
     "execution_count": 12,
     "metadata": {},
     "output_type": "execute_result"
    }
   ],
   "source": [
    "gc.collect()"
   ]
  },
  {
   "cell_type": "code",
   "execution_count": 13,
   "metadata": {},
   "outputs": [],
   "source": [
    "X_test_reconst = autoencoder.predict(X_test)"
   ]
  },
  {
   "cell_type": "code",
   "execution_count": 14,
   "metadata": {},
   "outputs": [],
   "source": [
    "X_test_reconst_flat = np.sum(X_test_reconst,axis=1)\n",
    "X_test_flat = np.sum(X_test,axis=1)"
   ]
  },
  {
   "cell_type": "code",
   "execution_count": 15,
   "metadata": {},
   "outputs": [
    {
     "data": {
      "text/plain": [
       "(2000, 32, 32)"
      ]
     },
     "execution_count": 15,
     "metadata": {},
     "output_type": "execute_result"
    }
   ],
   "source": [
    "X_test_flat.shape"
   ]
  },
  {
   "cell_type": "code",
   "execution_count": 16,
   "metadata": {},
   "outputs": [],
   "source": [
    "def plot_image(X,mask_zero=True,figax=None):\n",
    "    if figax is None: figax = plt.subplots()\n",
    "    fig,ax = figax \n",
    "    if mask_zero: X = np.where(X==0,np.nan,X)\n",
    "    ax.imshow(X)"
   ]
  },
  {
   "cell_type": "code",
   "execution_count": 17,
   "metadata": {},
   "outputs": [
    {
     "data": {
      "image/png": "[encoded data removed]",
      "text/plain": [
       "<Figure size 720x360 with 3 Axes>"
      ]
     },
     "metadata": {
      "needs_background": "light"
     },
     "output_type": "display_data"
    }
   ],
   "source": [
    "event = 23\n",
    "\n",
    "fig,axs = plt.subplots(ncols=3,figsize=(10,5))\n",
    "plot_image(X_test_flat[event],figax=(fig,axs[0]))\n",
    "plot_image(X_test_reconst_flat[event],figax=(fig,axs[1]))\n",
    "plot_image(np.abs(X_test_flat[event]-X_test_reconst_flat[event]),figax=(fig,axs[2]))\n",
    "plt.show()"
   ]
  },
  {
   "cell_type": "code",
   "execution_count": null,
   "metadata": {},
   "outputs": [],
   "source": []
  }
 ],
 "metadata": {
  "interpreter": {
   "hash": "0dc50badf6bcf34ee37feb4ddab24eb1b71716d96fc6cae89d10c22f5e3462c0"
  },
  "kernelspec": {
   "display_name": "Python 3.8.10 64-bit ('base': conda)",
   "language": "python",
   "name": "python3"
  },
  "language_info": {
   "codemirror_mode": {
    "name": "ipython",
    "version": 3
   },
   "file_extension": ".py",
   "mimetype": "text/x-python",
   "name": "python",
   "nbconvert_exporter": "python",
   "pygments_lexer": "ipython3",
   "version": "3.8.10"
  },
  "orig_nbformat": 4
 },
 "nbformat": 4,
 "nbformat_minor": 2
}
