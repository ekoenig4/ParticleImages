{
 "cells": [
  {
   "cell_type": "code",
   "execution_count": 1,
   "metadata": {},
   "outputs": [],
   "source": [
    "import numpy as np\n",
    "import awkward as ak\n",
    "np.random.seed(1337)  # for reproducibility\n",
    "\n",
    "from tensorflow import keras \n",
    "from tensorflow.keras import layers\n",
    "from tensorflow.keras.utils import to_categorical\n",
    "from tensorflow.keras import optimizers\n",
    "from keras.utils.vis_utils import plot_model\n",
    "\n",
    "from sklearn.metrics import roc_curve, auc, confusion_matrix\n",
    "\n",
    "import matplotlib.pyplot as plt\n",
    "import gc\n",
    "\n",
    "import utils as pic\n",
    "\n",
    "%load_ext autoreload\n",
    "%autoreload 2"
   ]
  },
  {
   "cell_type": "code",
   "execution_count": 2,
   "metadata": {},
   "outputs": [],
   "source": [
    "lr_init     = 1.e-5    # Initial learning rate  \n",
    "batch_size  = 100       # Training batch size\n",
    "train_size  = 5000     # Training size\n",
    "valid_size  = 2500     # Validation size\n",
    "test_size   = 2500     # Test size\n",
    "epochs      = 20       # Number of epochs\n",
    "doGPU       = False    # Use GPU\n",
    "tmin        = -0.1    # Minimum time cutoff\n",
    "tmax        = 0.1     # Maximum time cutoff\n",
    "tstep       = 0.0085   # Time steps"
   ]
  },
  {
   "cell_type": "code",
   "execution_count": 3,
   "metadata": {},
   "outputs": [],
   "source": [
    "(X_train, y_train), (X_valid, y_valid), (X_test, y_test) = pic.load_train_valid_test(train_size,valid_size,test_size,batch_size)"
   ]
  },
  {
   "cell_type": "code",
   "execution_count": 4,
   "metadata": {},
   "outputs": [],
   "source": [
    "X_train = X_train[:,:,:,0]\n",
    "\n",
    "scaler = pic.MinMaxScaler(0.005).fit(X_train)\n",
    "X_train = scaler.transform(X_train)\n",
    "y_b_train = to_categorical(y_train)"
   ]
  },
  {
   "cell_type": "code",
   "execution_count": 5,
   "metadata": {},
   "outputs": [],
   "source": [
    "X_valid = X_valid[:,:,:,0]\n",
    "X_valid = scaler.transform(X_valid)\n",
    "y_b_valid = to_categorical(y_valid)\n"
   ]
  },
  {
   "cell_type": "code",
   "execution_count": 6,
   "metadata": {},
   "outputs": [],
   "source": [
    "X_test = X_test[:,:,:,0]\n",
    "X_test = scaler.transform(X_test)\n",
    "y_b_test = to_categorical(y_test)\n"
   ]
  },
  {
   "cell_type": "code",
   "execution_count": 13,
   "metadata": {},
   "outputs": [
    {
     "name": "stdout",
     "output_type": "stream",
     "text": [
      "Model: \"sequential_1\"\n",
      "_________________________________________________________________\n",
      "Layer (type)                 Output Shape              Param #   \n",
      "=================================================================\n",
      "reshape_1 (Reshape)          (None, 32, 32, 1)         0         \n",
      "_________________________________________________________________\n",
      "conv2d_2 (Conv2D)            (None, 32, 32, 64)        640       \n",
      "_________________________________________________________________\n",
      "batch_normalization_1 (Batch (None, 32, 32, 64)        256       \n",
      "_________________________________________________________________\n",
      "max_pooling2d_2 (MaxPooling2 (None, 16, 16, 64)        0         \n",
      "_________________________________________________________________\n",
      "conv2d_3 (Conv2D)            (None, 16, 16, 32)        18464     \n",
      "_________________________________________________________________\n",
      "max_pooling2d_3 (MaxPooling2 (None, 8, 8, 32)          0         \n",
      "_________________________________________________________________\n",
      "flatten_1 (Flatten)          (None, 2048)              0         \n",
      "_________________________________________________________________\n",
      "dense_2 (Dense)              (None, 32)                65568     \n",
      "_________________________________________________________________\n",
      "dense_3 (Dense)              (None, 2)                 66        \n",
      "=================================================================\n",
      "Total params: 84,994\n",
      "Trainable params: 84,866\n",
      "Non-trainable params: 128\n",
      "_________________________________________________________________\n"
     ]
    }
   ],
   "source": [
    "model = keras.Sequential()\n",
    "\n",
    "model.add(layers.Reshape((32, 32, 1),\n",
    "          input_shape=(32, 32)))\n",
    "model.add(layers.Conv2D(64, 3, activation='relu', padding='same'))\n",
    "model.add(layers.BatchNormalization())\n",
    "model.add(layers.MaxPool2D((2, 2)))\n",
    "model.add(layers.Conv2D(32, 3, activation='relu', padding='same'))\n",
    "model.add(layers.MaxPool2D())\n",
    "model.add(layers.Flatten())\n",
    "model.add(layers.Dense(32, activation='relu'))\n",
    "model.add(layers.Dense(2, activation='softmax'))\n",
    "\n",
    "model.summary()"
   ]
  },
  {
   "cell_type": "code",
   "execution_count": 14,
   "metadata": {},
   "outputs": [],
   "source": [
    "model.compile(loss='binary_crossentropy', optimizer=optimizers.Adam(learning_rate=lr_init),metrics=['accuracy'])"
   ]
  },
  {
   "cell_type": "code",
   "execution_count": 15,
   "metadata": {},
   "outputs": [
    {
     "name": "stdout",
     "output_type": "stream",
     "text": [
      "Epoch 1/20\n",
      "200/200 [==============================] - 6s 27ms/step - loss: 0.6910 - accuracy: 0.5032 - val_loss: 0.6927 - val_accuracy: 0.5426\n",
      "Epoch 2/20\n",
      "200/200 [==============================] - 5s 27ms/step - loss: 0.6870 - accuracy: 0.5217 - val_loss: 0.6911 - val_accuracy: 0.5820\n",
      "Epoch 3/20\n",
      "200/200 [==============================] - 5s 26ms/step - loss: 0.6837 - accuracy: 0.5430 - val_loss: 0.6872 - val_accuracy: 0.5876\n",
      "Epoch 4/20\n",
      "200/200 [==============================] - 5s 26ms/step - loss: 0.6808 - accuracy: 0.5776 - val_loss: 0.6816 - val_accuracy: 0.5816\n",
      "Epoch 5/20\n",
      "200/200 [==============================] - 5s 26ms/step - loss: 0.6780 - accuracy: 0.5816 - val_loss: 0.6782 - val_accuracy: 0.5870\n",
      "Epoch 6/20\n",
      "200/200 [==============================] - 6s 28ms/step - loss: 0.6750 - accuracy: 0.5867 - val_loss: 0.6749 - val_accuracy: 0.5872\n",
      "Epoch 7/20\n",
      "200/200 [==============================] - 5s 26ms/step - loss: 0.6717 - accuracy: 0.5910 - val_loss: 0.6729 - val_accuracy: 0.5940\n",
      "Epoch 8/20\n",
      "200/200 [==============================] - 6s 29ms/step - loss: 0.6692 - accuracy: 0.5959 - val_loss: 0.6710 - val_accuracy: 0.5968\n",
      "Epoch 9/20\n",
      "200/200 [==============================] - 6s 28ms/step - loss: 0.6671 - accuracy: 0.5970 - val_loss: 0.6693 - val_accuracy: 0.5874\n",
      "Epoch 10/20\n",
      "200/200 [==============================] - 6s 28ms/step - loss: 0.6653 - accuracy: 0.5975 - val_loss: 0.6679 - val_accuracy: 0.5942\n",
      "Epoch 11/20\n",
      "200/200 [==============================] - 6s 29ms/step - loss: 0.6638 - accuracy: 0.6025 - val_loss: 0.6668 - val_accuracy: 0.5938\n",
      "Epoch 12/20\n",
      "200/200 [==============================] - 6s 28ms/step - loss: 0.6623 - accuracy: 0.6047 - val_loss: 0.6659 - val_accuracy: 0.6002\n",
      "Epoch 13/20\n",
      "200/200 [==============================] - 6s 28ms/step - loss: 0.6611 - accuracy: 0.6044 - val_loss: 0.6655 - val_accuracy: 0.6024\n",
      "Epoch 14/20\n",
      "200/200 [==============================] - 5s 27ms/step - loss: 0.6601 - accuracy: 0.6074 - val_loss: 0.6644 - val_accuracy: 0.5998\n",
      "Epoch 15/20\n",
      "200/200 [==============================] - 6s 29ms/step - loss: 0.6591 - accuracy: 0.6095 - val_loss: 0.6638 - val_accuracy: 0.5958\n",
      "Epoch 16/20\n",
      "200/200 [==============================] - 5s 27ms/step - loss: 0.6582 - accuracy: 0.6120 - val_loss: 0.6631 - val_accuracy: 0.5998\n",
      "Epoch 17/20\n",
      "200/200 [==============================] - 5s 26ms/step - loss: 0.6573 - accuracy: 0.6125 - val_loss: 0.6632 - val_accuracy: 0.6056\n",
      "Epoch 18/20\n",
      "200/200 [==============================] - 5s 25ms/step - loss: 0.6566 - accuracy: 0.6113 - val_loss: 0.6621 - val_accuracy: 0.6010\n",
      "Epoch 19/20\n",
      "200/200 [==============================] - 6s 28ms/step - loss: 0.6558 - accuracy: 0.6130 - val_loss: 0.6618 - val_accuracy: 0.6062\n",
      "Epoch 20/20\n",
      "200/200 [==============================] - 5s 27ms/step - loss: 0.6551 - accuracy: 0.6157 - val_loss: 0.6611 - val_accuracy: 0.6004\n"
     ]
    }
   ],
   "source": [
    "history = model.fit(\n",
    "    X_train, y_b_train,\n",
    "    validation_data=(X_valid,y_b_valid),\n",
    "    epochs=20,\n",
    "    batch_size=50,\n",
    "    shuffle=True,\n",
    "    verbose=1\n",
    ")"
   ]
  },
  {
   "cell_type": "code",
   "execution_count": 16,
   "metadata": {},
   "outputs": [
    {
     "data": {
      "image/png": "[encoded data removed]",
      "text/plain": [
       "<Figure size 432x288 with 1 Axes>"
      ]
     },
     "metadata": {
      "needs_background": "light"
     },
     "output_type": "display_data"
    }
   ],
   "source": [
    "pic.plot_history(history)"
   ]
  },
  {
   "cell_type": "code",
   "execution_count": 17,
   "metadata": {},
   "outputs": [],
   "source": [
    "y_b_pred = model.predict(X_test)"
   ]
  },
  {
   "cell_type": "code",
   "execution_count": 18,
   "metadata": {},
   "outputs": [
    {
     "data": {
      "image/png": "[encoded data removed]",
      "text/plain": [
       "<Figure size 432x288 with 1 Axes>"
      ]
     },
     "metadata": {
      "needs_background": "light"
     },
     "output_type": "display_data"
    }
   ],
   "source": [
    "pic.plot_roc(y_b_test[:,0],y_b_pred[:,0])"
   ]
  },
  {
   "cell_type": "code",
   "execution_count": null,
   "metadata": {},
   "outputs": [],
   "source": []
  }
 ],
 "metadata": {
  "interpreter": {
   "hash": "0dc50badf6bcf34ee37feb4ddab24eb1b71716d96fc6cae89d10c22f5e3462c0"
  },
  "kernelspec": {
   "display_name": "Python 3.8.10 64-bit ('base': conda)",
   "language": "python",
   "name": "python3"
  },
  "language_info": {
   "codemirror_mode": {
    "name": "ipython",
    "version": 3
   },
   "file_extension": ".py",
   "mimetype": "text/x-python",
   "name": "python",
   "nbconvert_exporter": "python",
   "pygments_lexer": "ipython3",
   "version": "3.8.10"
  },
  "orig_nbformat": 4
 },
 "nbformat": 4,
 "nbformat_minor": 2
}
