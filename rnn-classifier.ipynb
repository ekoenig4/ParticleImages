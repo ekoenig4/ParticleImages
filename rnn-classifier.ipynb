{
 "cells": [
  {
   "cell_type": "code",
   "execution_count": 64,
   "metadata": {},
   "outputs": [
    {
     "name": "stdout",
     "output_type": "stream",
     "text": [
      "The autoreload extension is already loaded. To reload it, use:\n",
      "  %reload_ext autoreload\n"
     ]
    }
   ],
   "source": [
    "import numpy as np\n",
    "import awkward as ak\n",
    "np.random.seed(1337)  # for reproducibility\n",
    "\n",
    "from tensorflow import keras \n",
    "from tensorflow.keras import layers\n",
    "from tensorflow.keras.utils import to_categorical\n",
    "from keras.utils.vis_utils import plot_model\n",
    "from keras.layers import AveragePooling3D,ConvLSTM2D,TimeDistributed, Reshape, Input, Dense, Dropout, Flatten, Conv3D, MaxPooling3D,Conv2D, MaxPooling2D,BatchNormalization,AveragePooling2D, concatenate\n",
    "from keras.models import Sequential,Model\n",
    "from tensorflow.keras.optimizers import Adam\n",
    "\n",
    "from os import system\n",
    "from os.path import exists\n",
    "\n",
    "from sklearn.metrics import roc_curve, auc\n",
    "\n",
    "import matplotlib.pyplot as plt\n",
    "\n",
    "import utils as pic\n",
    "\n",
    "%load_ext autoreload\n",
    "%autoreload 2"
   ]
  },
  {
   "cell_type": "code",
   "execution_count": 84,
   "metadata": {},
   "outputs": [],
   "source": [
    "lr_init     = 1.e-3    # Initial learning rate  \n",
    "batch_size  = 64       # Training batch size\n",
    "train_size  = 2048     # Training size\n",
    "valid_size  = 1024     # Validation size\n",
    "test_size   = 1024     # Test size\n",
    "epochs      = 20       # Number of epochs\n",
    "doGPU       = False    # Use GPU\n",
    "min_t       =0 #Min time\n",
    "max_t       =0.01 #Max time\n",
    "t_step      =0.00499 #time step"
   ]
  },
  {
   "cell_type": "code",
   "execution_count": 39,
   "metadata": {},
   "outputs": [],
   "source": [
    "# Set range of training set\n",
    "train_start, train_stop = 0, train_size\n",
    "assert train_stop > train_start\n",
    "assert (len(pic.decays)*train_size) % batch_size == 0\n",
    "X_train, y_train = pic.load_data(train_start,train_stop)\n",
    "\n",
    "# Set range of validation set\n",
    "valid_start, valid_stop = 160000, 160000+valid_size\n",
    "assert valid_stop  >  valid_start\n",
    "assert valid_start >= train_stop\n",
    "X_valid, y_valid = pic.load_data(valid_start,valid_stop)\n",
    "\n",
    "# Set range of test set\n",
    "test_start, test_stop = 204800, 204800+test_size\n",
    "assert test_stop  >  test_start\n",
    "assert test_start >= valid_stop\n",
    "X_test, y_test = pic.load_data(test_start,test_stop)\n",
    "\n",
    "samples_requested = len(pic.decays) * (train_size + valid_size + test_size)\n",
    "samples_available = len(y_train) + len(y_valid) + len(y_test)\n",
    "assert samples_requested == samples_available"
   ]
  },
  {
   "cell_type": "code",
   "execution_count": 85,
   "metadata": {},
   "outputs": [
    {
     "data": {
      "text/plain": [
       "(4096, 3, 32, 32)"
      ]
     },
     "execution_count": 85,
     "metadata": {},
     "output_type": "execute_result"
    }
   ],
   "source": [
    "X_e_train,X_t_train,maxframes,t_bins,X_e_max_train,X_t_max_train = pic.timeordered_BC(X_train,cutoff=0.005,remove_empty=True,normalize=True,min_t = min_t,max_t = max_t,t_step=t_step)\n",
    "y_b_train = to_categorical(y_train)\n",
    "X_e_train.shape"
   ]
  },
  {
   "cell_type": "code",
   "execution_count": 86,
   "metadata": {},
   "outputs": [
    {
     "data": {
      "text/plain": [
       "(2048, 3, 32, 32)"
      ]
     },
     "execution_count": 86,
     "metadata": {},
     "output_type": "execute_result"
    }
   ],
   "source": [
    "X_e_valid,X_t_valid,_,t_bins,X_e_max_valid,X_t_max_valid = pic.timeordered_BC(X_valid,cutoff=0.005,remove_empty=True,normalize=True,min_t = min_t,max_t = max_t,t_step=t_step)\n",
    "y_b_valid = to_categorical(y_valid)\n",
    "X_e_valid.shape"
   ]
  },
  {
   "cell_type": "code",
   "execution_count": 87,
   "metadata": {},
   "outputs": [],
   "source": [
    "X_e_test,X_t_test,_,t_bins,X_e_max_test,X_t_max_test = pic.timeordered_BC(X_test,cutoff=0.005,remove_empty=True,normalize=True,min_t = min_t,max_t = max_t,t_step=t_step)\n",
    "y_b_test = to_categorical(y_test)"
   ]
  },
  {
   "cell_type": "code",
   "execution_count": 89,
   "metadata": {},
   "outputs": [
    {
     "name": "stdout",
     "output_type": "stream",
     "text": [
      "Model: \"model_18\"\n",
      "_________________________________________________________________\n",
      "Layer (type)                 Output Shape              Param #   \n",
      "=================================================================\n",
      "input_29 (InputLayer)        [(None, 3, 32, 32, 1)]    0         \n",
      "_________________________________________________________________\n",
      "conv3d_30 (Conv3D)           (None, 3, 32, 32, 16)     160       \n",
      "_________________________________________________________________\n",
      "conv3d_31 (Conv3D)           (None, 3, 32, 32, 32)     2080      \n",
      "_________________________________________________________________\n",
      "conv_lst_m2d_50 (ConvLSTM2D) (None, 3, 32, 32, 16)     12352     \n",
      "_________________________________________________________________\n",
      "max_pooling3d_35 (MaxPooling (None, 2, 16, 16, 16)     0         \n",
      "_________________________________________________________________\n",
      "conv3d_32 (Conv3D)           (None, 2, 16, 16, 32)     4128      \n",
      "_________________________________________________________________\n",
      "average_pooling3d_15 (Averag (None, 1, 8, 8, 32)       0         \n",
      "_________________________________________________________________\n",
      "conv3d_33 (Conv3D)           (None, 1, 8, 8, 64)       2112      \n",
      "_________________________________________________________________\n",
      "flatten_19 (Flatten)         (None, 4096)              0         \n",
      "_________________________________________________________________\n",
      "dense_46 (Dense)             (None, 100)               409700    \n",
      "_________________________________________________________________\n",
      "dense_47 (Dense)             (None, 2)                 202       \n",
      "=================================================================\n",
      "Total params: 430,734\n",
      "Trainable params: 430,734\n",
      "Non-trainable params: 0\n",
      "_________________________________________________________________\n"
     ]
    }
   ],
   "source": [
    "input_img = Input(shape=(maxframes,32, 32, 1))\n",
    "conv3d_1 = Conv3D(filters=16,\n",
    "                  kernel_size=(1,3,3),\n",
    "                  activation='relu',\n",
    "                  padding='same')(input_img)\n",
    "conv3d_2 = Conv3D(filters=32,\n",
    "                  kernel_size=(1,2,2),\n",
    "                  activation='relu',\n",
    "                  padding='same')(conv3d_1)\n",
    "crnn_1 = ConvLSTM2D(filters=16,kernel_size=2,\n",
    "                    activation='relu',padding='same',\n",
    "                    kernel_initializer='TruncatedNormal',\n",
    "                    return_sequences=True)(conv3d_2)\n",
    "mp3d_1 = MaxPooling3D(strides=(1,2,2))(crnn_1)\n",
    "conv3d_3 = Conv3D(filters=32,\n",
    "                  kernel_size=2,\n",
    "                  activation='relu',\n",
    "                  padding='same')(mp3d_1)\n",
    "ap3d_1 = AveragePooling3D(strides=2)(conv3d_3)\n",
    "conv3d_4 = Conv3D(filters=64,\n",
    "                  kernel_size=1,\n",
    "                  activation='relu',\n",
    "                  padding='same')(ap3d_1)\n",
    "flatten_1 = Flatten()(conv3d_4)\n",
    "dense_1 = Dense(100,activation='relu')(flatten_1)\n",
    "#dropout_1 = Dropout(0.3)(dense_1)\n",
    "#dense_2 = Dense(100,activation='relu')(dropout_1)\n",
    "output = Dense(2,activation='softmax')(dense_1)\n",
    "\n",
    "model = Model([input_img],output)\n",
    "model.summary()\n"
   ]
  },
  {
   "cell_type": "code",
   "execution_count": 90,
   "metadata": {},
   "outputs": [],
   "source": [
    "model.compile(loss='binary_crossentropy', optimizer='adam',metrics=['accuracy'])"
   ]
  },
  {
   "cell_type": "code",
   "execution_count": 91,
   "metadata": {},
   "outputs": [
    {
     "data": {
      "text/plain": [
       "0"
      ]
     },
     "execution_count": 91,
     "metadata": {},
     "output_type": "execute_result"
    }
   ],
   "source": [
    "plot_model(model,show_shapes=True,to_file='rcnn_5.png')\n",
    "system('mv *.png Models/')"
   ]
  },
  {
   "cell_type": "code",
   "execution_count": 92,
   "metadata": {},
   "outputs": [
    {
     "name": "stdout",
     "output_type": "stream",
     "text": [
      "Epoch 1/5\n",
      "64/64 [==============================] - 140s 2s/step - loss: 0.6932 - accuracy: 0.4973 - val_loss: 0.6931 - val_accuracy: 0.5000\n",
      "Epoch 2/5\n",
      "64/64 [==============================] - 125s 2s/step - loss: 0.6932 - accuracy: 0.4897 - val_loss: 0.6931 - val_accuracy: 0.5000\n",
      "Epoch 3/5\n",
      "64/64 [==============================] - 103s 2s/step - loss: 0.6932 - accuracy: 0.4834 - val_loss: 0.6931 - val_accuracy: 0.5000\n",
      "Epoch 4/5\n",
      "64/64 [==============================] - 103s 2s/step - loss: 0.6932 - accuracy: 0.4893 - val_loss: 0.6931 - val_accuracy: 0.5000\n",
      "Epoch 5/5\n",
      "64/64 [==============================] - 102s 2s/step - loss: 0.6932 - accuracy: 0.4995 - val_loss: 0.6931 - val_accuracy: 0.5000\n"
     ]
    }
   ],
   "source": [
    "history = model.fit(\n",
    "    X_e_train, y_b_train,\n",
    "    validation_data=(X_e_valid,y_b_valid),\n",
    "    epochs=5,\n",
    "    batch_size=batch_size,\n",
    "    shuffle=True,\n",
    "    verbose=1\n",
    ")"
   ]
  },
  {
   "cell_type": "code",
   "execution_count": null,
   "metadata": {},
   "outputs": [],
   "source": []
  }
 ],
 "metadata": {
  "interpreter": {
   "hash": "0dc50badf6bcf34ee37feb4ddab24eb1b71716d96fc6cae89d10c22f5e3462c0"
  },
  "kernelspec": {
   "display_name": "Python 3.8.10 64-bit ('base': conda)",
   "language": "python",
   "name": "python3"
  },
  "language_info": {
   "codemirror_mode": {
    "name": "ipython",
    "version": 3
   },
   "file_extension": ".py",
   "mimetype": "text/x-python",
   "name": "python",
   "nbconvert_exporter": "python",
   "pygments_lexer": "ipython3",
   "version": "3.9.8"
  },
  "orig_nbformat": 4
 },
 "nbformat": 4,
 "nbformat_minor": 2
}
