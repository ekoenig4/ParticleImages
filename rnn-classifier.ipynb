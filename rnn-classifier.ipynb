{
 "cells": [
  {
   "cell_type": "code",
   "execution_count": 1,
   "metadata": {},
   "outputs": [],
   "source": [
    "import numpy as np\n",
    "import awkward as ak\n",
    "np.random.seed(1337)  # for reproducibility\n",
    "\n",
    "from tensorflow import keras \n",
    "from tensorflow.keras import layers\n",
    "from tensorflow.keras.utils import to_categorical\n",
    "from keras.utils.vis_utils import plot_model\n",
    "\n",
    "from sklearn.metrics import roc_curve, auc\n",
    "from sklearn.preprocessing import MinMaxScaler\n",
    "\n",
    "import matplotlib.pyplot as plt\n",
    "\n",
    "import utils as pic\n",
    "\n",
    "%load_ext autoreload\n",
    "%autoreload 2"
   ]
  },
  {
   "cell_type": "code",
   "execution_count": 2,
   "metadata": {},
   "outputs": [],
   "source": [
    "lr_init     = 1.e-3    # Initial learning rate  \n",
    "batch_size  = 64       # Training batch size\n",
    "train_size  = 1024     # Training size\n",
    "valid_size  = 1024     # Validation size\n",
    "test_size   = 1024     # Test size\n",
    "epochs      = 20       # Number of epochs\n",
    "doGPU       = False    # Use GPU"
   ]
  },
  {
   "cell_type": "code",
   "execution_count": 3,
   "metadata": {},
   "outputs": [],
   "source": [
    "# Set range of training set\n",
    "train_start, train_stop = 0, train_size\n",
    "assert train_stop > train_start\n",
    "assert (len(pic.decays)*train_size) % batch_size == 0\n",
    "X_train, y_train = pic.load_data(train_start,train_stop)\n",
    "\n",
    "# Set range of validation set\n",
    "valid_start, valid_stop = 160000, 160000+valid_size\n",
    "assert valid_stop  >  valid_start\n",
    "assert valid_start >= train_stop\n",
    "X_valid, y_valid = pic.load_data(valid_start,valid_stop)\n",
    "\n",
    "# Set range of test set\n",
    "test_start, test_stop = 204800, 204800+test_size\n",
    "assert test_stop  >  test_start\n",
    "assert test_start >= valid_stop\n",
    "X_test, y_test = pic.load_data(test_start,test_stop)\n",
    "\n",
    "samples_requested = len(pic.decays) * (train_size + valid_size + test_size)\n",
    "samples_available = len(y_train) + len(y_valid) + len(y_test)\n",
    "assert samples_requested == samples_available"
   ]
  },
  {
   "cell_type": "code",
   "execution_count": 4,
   "metadata": {},
   "outputs": [
    {
     "name": "stdout",
     "output_type": "stream",
     "text": [
      "[-0.05   -0.0401 -0.0302 -0.0203 -0.0104 -0.0005  0.0094  0.0193  0.0292\n",
      "  0.0391  0.049 ]\n"
     ]
    }
   ],
   "source": [
    "X_e_train, X_t_train, maxframes, time_bins = pic.timeordered_BC(X_train, cumulative=False )\n",
    "\n",
    "scaler = MinMaxScaler().fit(X_e_train.reshape(-1,maxframes*32*32))\n",
    "scale_input = lambda X : scaler.transform(X.reshape(-1,maxframes*32*32)).reshape(X.shape)\n",
    "\n",
    "X_e_train = scale_input(X_e_train)"
   ]
  },
  {
   "cell_type": "code",
   "execution_count": 5,
   "metadata": {},
   "outputs": [
    {
     "name": "stdout",
     "output_type": "stream",
     "text": [
      "[-0.05   -0.0401 -0.0302 -0.0203 -0.0104 -0.0005  0.0094  0.0193  0.0292\n",
      "  0.0391  0.049 ]\n"
     ]
    }
   ],
   "source": [
    "X_e_valid, X_t_valid, maxframes, time_bins = pic.timeordered_BC(X_valid, cumulative=False )\n",
    "X_e_valid = scale_input(X_e_valid)"
   ]
  },
  {
   "cell_type": "code",
   "execution_count": 6,
   "metadata": {},
   "outputs": [
    {
     "name": "stdout",
     "output_type": "stream",
     "text": [
      "[-0.05   -0.0401 -0.0302 -0.0203 -0.0104 -0.0005  0.0094  0.0193  0.0292\n",
      "  0.0391  0.049 ]\n"
     ]
    }
   ],
   "source": [
    "X_e_test, X_t_test, _, _ = pic.timeordered_BC(X_test, cumulative=False)\n",
    "X_e_test = scale_input(X_e_test)"
   ]
  },
  {
   "cell_type": "code",
   "execution_count": 7,
   "metadata": {},
   "outputs": [
    {
     "name": "stdout",
     "output_type": "stream",
     "text": [
      "Model: \"sequential\"\n",
      "_________________________________________________________________\n",
      "Layer (type)                 Output Shape              Param #   \n",
      "=================================================================\n",
      "reshape (Reshape)            (None, 11, 32, 32, 1)     0         \n",
      "_________________________________________________________________\n",
      "conv_lst_m2d (ConvLSTM2D)    (None, 32, 32, 32)        38144     \n",
      "_________________________________________________________________\n",
      "batch_normalization (BatchNo (None, 32, 32, 32)        128       \n",
      "_________________________________________________________________\n",
      "max_pooling2d (MaxPooling2D) (None, 16, 16, 32)        0         \n",
      "_________________________________________________________________\n",
      "conv2d (Conv2D)              (None, 16, 16, 16)        4624      \n",
      "_________________________________________________________________\n",
      "max_pooling2d_1 (MaxPooling2 (None, 8, 8, 16)          0         \n",
      "_________________________________________________________________\n",
      "flatten (Flatten)            (None, 1024)              0         \n",
      "_________________________________________________________________\n",
      "dense (Dense)                (None, 25)                25625     \n",
      "_________________________________________________________________\n",
      "dense_1 (Dense)              (None, 1)                 26        \n",
      "=================================================================\n",
      "Total params: 68,547\n",
      "Trainable params: 68,483\n",
      "Non-trainable params: 64\n",
      "_________________________________________________________________\n"
     ]
    }
   ],
   "source": [
    "model = keras.Sequential()\n",
    "\n",
    "model.add(layers.Reshape((maxframes, 32, 32, 1),input_shape=(maxframes, 32, 32)))\n",
    "model.add(layers.ConvLSTM2D(32, 3, activation='relu', padding='same'))\n",
    "model.add(layers.BatchNormalization())\n",
    "model.add(layers.MaxPool2D())\n",
    "model.add(layers.Conv2D(16,3,activation='relu',padding='same'))\n",
    "model.add(layers.MaxPool2D())\n",
    "model.add(layers.Flatten())\n",
    "model.add(layers.Dense(25,activation='relu'))\n",
    "model.add(layers.Dense(1, activation='sigmoid'))\n",
    "\n",
    "model.summary()\n"
   ]
  },
  {
   "cell_type": "code",
   "execution_count": 8,
   "metadata": {},
   "outputs": [],
   "source": [
    "model.compile(loss='binary_crossentropy', optimizer='adam',metrics=['accuracy'])"
   ]
  },
  {
   "cell_type": "code",
   "execution_count": 9,
   "metadata": {},
   "outputs": [
    {
     "name": "stdout",
     "output_type": "stream",
     "text": [
      "Epoch 1/5\n",
      "32/32 [==============================] - 47s 1s/step - loss: 0.6868 - accuracy: 0.5361 - val_loss: 0.6960 - val_accuracy: 0.5156\n",
      "Epoch 2/5\n",
      "32/32 [==============================] - 48s 2s/step - loss: 0.6785 - accuracy: 0.5854 - val_loss: 0.6940 - val_accuracy: 0.5083\n",
      "Epoch 3/5\n",
      "32/32 [==============================] - 45s 1s/step - loss: 0.6677 - accuracy: 0.6001 - val_loss: 0.6952 - val_accuracy: 0.5229\n",
      "Epoch 4/5\n",
      "32/32 [==============================] - 46s 1s/step - loss: 0.6599 - accuracy: 0.5952 - val_loss: 0.7045 - val_accuracy: 0.5610\n",
      "Epoch 5/5\n",
      "32/32 [==============================] - 45s 1s/step - loss: 0.6454 - accuracy: 0.6143 - val_loss: 0.7942 - val_accuracy: 0.5234\n"
     ]
    }
   ],
   "source": [
    "history = model.fit(\n",
    "    X_e_train, y_train,\n",
    "    validation_data=(X_e_valid,y_valid),\n",
    "    epochs=5,\n",
    "    batch_size=batch_size,\n",
    "    shuffle=True,\n",
    "    verbose=1\n",
    ")"
   ]
  },
  {
   "cell_type": "code",
   "execution_count": 16,
   "metadata": {},
   "outputs": [
    {
     "data": {
      "image/png": "[encoded data removed]",
      "text/plain": [
       "<Figure size 432x288 with 1 Axes>"
      ]
     },
     "metadata": {
      "needs_background": "light"
     },
     "output_type": "display_data"
    }
   ],
   "source": [
    "pic.plot_roc(y_test, model.predict(X_e_test))"
   ]
  },
  {
   "cell_type": "code",
   "execution_count": null,
   "metadata": {},
   "outputs": [],
   "source": []
  }
 ],
 "metadata": {
  "interpreter": {
   "hash": "0dc50badf6bcf34ee37feb4ddab24eb1b71716d96fc6cae89d10c22f5e3462c0"
  },
  "kernelspec": {
   "display_name": "Python 3.8.10 64-bit ('base': conda)",
   "language": "python",
   "name": "python3"
  },
  "language_info": {
   "codemirror_mode": {
    "name": "ipython",
    "version": 3
   },
   "file_extension": ".py",
   "mimetype": "text/x-python",
   "name": "python",
   "nbconvert_exporter": "python",
   "pygments_lexer": "ipython3",
   "version": "3.8.10"
  },
  "orig_nbformat": 4
 },
 "nbformat": 4,
 "nbformat_minor": 2
}
