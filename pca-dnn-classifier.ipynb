{
 "cells": [
  {
   "cell_type": "code",
   "execution_count": 21,
   "metadata": {},
   "outputs": [
    {
     "name": "stdout",
     "output_type": "stream",
     "text": [
      "The autoreload extension is already loaded. To reload it, use:\n",
      "  %reload_ext autoreload\n"
     ]
    }
   ],
   "source": [
    "import numpy as np\n",
    "import awkward as ak\n",
    "np.random.seed(1337)  # for reproducibility\n",
    "\n",
    "from tensorflow import keras \n",
    "from tensorflow.keras import layers\n",
    "from tensorflow.keras.utils import to_categorical\n",
    "from tensorflow.keras import optimizers\n",
    "from keras.utils.vis_utils import plot_model\n",
    "\n",
    "from sklearn.metrics import roc_curve, auc, confusion_matrix\n",
    "from sklearn.decomposition import PCA\n",
    "\n",
    "import matplotlib.pyplot as plt\n",
    "import gc\n",
    "\n",
    "import utils as pic\n",
    "\n",
    "%load_ext autoreload\n",
    "%autoreload 2"
   ]
  },
  {
   "cell_type": "code",
   "execution_count": 22,
   "metadata": {},
   "outputs": [],
   "source": [
    "lr_init     = 1.e-5    # Initial learning rate  \n",
    "batch_size  = 100       # Training batch size\n",
    "train_size  = 5000     # Training size\n",
    "valid_size  = 2500     # Validation size\n",
    "test_size   = 2500     # Test size\n",
    "epochs      = 20       # Number of epochs\n",
    "doGPU       = False    # Use GPU\n",
    "tmin        = -0.1    # Minimum time cutoff\n",
    "tmax        = 0.1     # Maximum time cutoff\n",
    "tstep       = 0.0085   # Time steps"
   ]
  },
  {
   "cell_type": "code",
   "execution_count": 35,
   "metadata": {},
   "outputs": [],
   "source": [
    "# Set range of training set\n",
    "train_start, train_stop = 0, train_size\n",
    "assert train_stop > train_start\n",
    "assert (len(pic.decays)*train_size) % batch_size == 0\n",
    "X_train, y_train = pic.load_data(train_start,train_stop)\n",
    "\n",
    "# Set range of validation set\n",
    "valid_start, valid_stop = 160000, 160000+valid_size\n",
    "assert valid_stop  >  valid_start\n",
    "assert valid_start >= train_stop\n",
    "X_valid, y_valid = pic.load_data(valid_start,valid_stop)\n",
    "\n",
    "# Set range of test set\n",
    "test_start, test_stop = 204800, 204800+test_size\n",
    "assert test_stop  >  test_start\n",
    "assert test_start >= valid_stop\n",
    "X_test, y_test = pic.load_data(test_start,test_stop)\n",
    "\n",
    "samples_requested = len(pic.decays) * (train_size + valid_size + test_size)\n",
    "samples_available = len(y_train) + len(y_valid) + len(y_test)\n",
    "assert samples_requested == samples_available"
   ]
  },
  {
   "cell_type": "code",
   "execution_count": 36,
   "metadata": {},
   "outputs": [],
   "source": [
    "pca_dim = 16*16"
   ]
  },
  {
   "cell_type": "code",
   "execution_count": 37,
   "metadata": {},
   "outputs": [],
   "source": [
    "X_train = X_train[:,:,:,0]\n",
    "scaler = pic.MinMaxScaler(0.005).fit(X_train)\n",
    "X_train = scaler.transform(X_train)\n",
    "pca = PCA(pca_dim).fit(X_train.reshape(-1,32*32))\n",
    "\n",
    "X_p_train = pca.transform( scaler.transform(X_train).reshape(-1,32*32) )\n",
    "y_b_train = to_categorical(y_train)"
   ]
  },
  {
   "cell_type": "code",
   "execution_count": 38,
   "metadata": {},
   "outputs": [],
   "source": [
    "X_valid = X_valid[:,:,:,0]\n",
    "\n",
    "X_p_valid = pca.transform( scaler.transform(X_valid).reshape(-1,32*32) )\n",
    "y_b_valid = to_categorical(y_valid)\n"
   ]
  },
  {
   "cell_type": "code",
   "execution_count": 39,
   "metadata": {},
   "outputs": [],
   "source": [
    "X_test = X_test[:,:,:,0]\n",
    "\n",
    "X_p_test = pca.transform( scaler.transform(X_test).reshape(-1,32*32) )\n",
    "y_b_test = to_categorical(y_test)\n"
   ]
  },
  {
   "cell_type": "code",
   "execution_count": 40,
   "metadata": {},
   "outputs": [
    {
     "name": "stdout",
     "output_type": "stream",
     "text": [
      "Model: \"sequential_6\"\n",
      "_________________________________________________________________\n",
      "Layer (type)                 Output Shape              Param #   \n",
      "=================================================================\n",
      "dense_18 (Dense)             (None, 64)                16448     \n",
      "_________________________________________________________________\n",
      "re_lu_6 (ReLU)               (None, 64)                0         \n",
      "_________________________________________________________________\n",
      "dense_19 (Dense)             (None, 64)                4160      \n",
      "_________________________________________________________________\n",
      "re_lu_7 (ReLU)               (None, 64)                0         \n",
      "_________________________________________________________________\n",
      "dense_20 (Dense)             (None, 32)                2080      \n",
      "_________________________________________________________________\n",
      "re_lu_8 (ReLU)               (None, 32)                0         \n",
      "_________________________________________________________________\n",
      "dense_21 (Dense)             (None, 2)                 66        \n",
      "=================================================================\n",
      "Total params: 22,754\n",
      "Trainable params: 22,754\n",
      "Non-trainable params: 0\n",
      "_________________________________________________________________\n"
     ]
    }
   ],
   "source": [
    "model = keras.Sequential()\n",
    "\n",
    "model.add(layers.Dense(64,input_shape=(pca_dim,)))\n",
    "model.add(layers.ReLU())\n",
    "model.add(layers.Dense(64))\n",
    "model.add(layers.ReLU())\n",
    "model.add(layers.Dense(32))\n",
    "model.add(layers.ReLU())\n",
    "model.add(layers.Dense(2,activation='softmax'))\n",
    "\n",
    "model.summary()"
   ]
  },
  {
   "cell_type": "code",
   "execution_count": 41,
   "metadata": {},
   "outputs": [],
   "source": [
    "model.compile(loss='binary_crossentropy', optimizer=optimizers.Adam(learning_rate=lr_init),metrics=['accuracy'])"
   ]
  },
  {
   "cell_type": "code",
   "execution_count": 42,
   "metadata": {},
   "outputs": [
    {
     "name": "stdout",
     "output_type": "stream",
     "text": [
      "Epoch 1/20\n",
      "1000/1000 [==============================] - 2s 1ms/step - loss: 0.6926 - accuracy: 0.5658 - val_loss: 0.6923 - val_accuracy: 0.5612\n",
      "Epoch 2/20\n",
      "1000/1000 [==============================] - 1s 1ms/step - loss: 0.6916 - accuracy: 0.5916 - val_loss: 0.6917 - val_accuracy: 0.5556\n",
      "Epoch 3/20\n",
      "1000/1000 [==============================] - 1s 1ms/step - loss: 0.6907 - accuracy: 0.5898 - val_loss: 0.6911 - val_accuracy: 0.5536\n",
      "Epoch 4/20\n",
      "1000/1000 [==============================] - 1s 1ms/step - loss: 0.6898 - accuracy: 0.5931 - val_loss: 0.6904 - val_accuracy: 0.5484\n",
      "Epoch 5/20\n",
      "1000/1000 [==============================] - 1s 1ms/step - loss: 0.6887 - accuracy: 0.5952 - val_loss: 0.6897 - val_accuracy: 0.5462\n",
      "Epoch 6/20\n",
      "1000/1000 [==============================] - 1s 1ms/step - loss: 0.6876 - accuracy: 0.5969 - val_loss: 0.6888 - val_accuracy: 0.5448\n",
      "Epoch 7/20\n",
      "1000/1000 [==============================] - 1s 1ms/step - loss: 0.6864 - accuracy: 0.5933 - val_loss: 0.6880 - val_accuracy: 0.5448\n",
      "Epoch 8/20\n",
      "1000/1000 [==============================] - 1s 1ms/step - loss: 0.6851 - accuracy: 0.5973 - val_loss: 0.6872 - val_accuracy: 0.5434\n",
      "Epoch 9/20\n",
      "1000/1000 [==============================] - 1s 1ms/step - loss: 0.6838 - accuracy: 0.5972 - val_loss: 0.6863 - val_accuracy: 0.5436\n",
      "Epoch 10/20\n",
      "1000/1000 [==============================] - 1s 1ms/step - loss: 0.6824 - accuracy: 0.5973 - val_loss: 0.6856 - val_accuracy: 0.5434\n",
      "Epoch 11/20\n",
      "1000/1000 [==============================] - 1s 1ms/step - loss: 0.6810 - accuracy: 0.5971 - val_loss: 0.6851 - val_accuracy: 0.5430\n",
      "Epoch 12/20\n",
      "1000/1000 [==============================] - 1s 1ms/step - loss: 0.6795 - accuracy: 0.5980 - val_loss: 0.6845 - val_accuracy: 0.5440\n",
      "Epoch 13/20\n",
      "1000/1000 [==============================] - 1s 1ms/step - loss: 0.6781 - accuracy: 0.5973 - val_loss: 0.6842 - val_accuracy: 0.5438\n",
      "Epoch 14/20\n",
      "1000/1000 [==============================] - 1s 1ms/step - loss: 0.6768 - accuracy: 0.5989 - val_loss: 0.6839 - val_accuracy: 0.5442\n",
      "Epoch 15/20\n",
      "1000/1000 [==============================] - 1s 1ms/step - loss: 0.6754 - accuracy: 0.5983 - val_loss: 0.6836 - val_accuracy: 0.5458\n",
      "Epoch 16/20\n",
      "1000/1000 [==============================] - 1s 1ms/step - loss: 0.6741 - accuracy: 0.5985 - val_loss: 0.6838 - val_accuracy: 0.5466\n",
      "Epoch 17/20\n",
      "1000/1000 [==============================] - 1s 1ms/step - loss: 0.6729 - accuracy: 0.5993 - val_loss: 0.6842 - val_accuracy: 0.5466\n",
      "Epoch 18/20\n",
      "1000/1000 [==============================] - 1s 1ms/step - loss: 0.6718 - accuracy: 0.5997 - val_loss: 0.6845 - val_accuracy: 0.5466\n",
      "Epoch 19/20\n",
      "1000/1000 [==============================] - 1s 1ms/step - loss: 0.6707 - accuracy: 0.5998 - val_loss: 0.6850 - val_accuracy: 0.5474\n",
      "Epoch 20/20\n",
      "1000/1000 [==============================] - 1s 1ms/step - loss: 0.6697 - accuracy: 0.5990 - val_loss: 0.6850 - val_accuracy: 0.5516\n"
     ]
    }
   ],
   "source": [
    "history = model.fit(\n",
    "    X_p_train, y_b_train,\n",
    "    validation_data=(X_p_valid,y_b_valid),\n",
    "    epochs=20,\n",
    "    batch_size=10,\n",
    "    shuffle=True,\n",
    "    verbose=1\n",
    ")"
   ]
  },
  {
   "cell_type": "code",
   "execution_count": 43,
   "metadata": {},
   "outputs": [
    {
     "data": {
      "image/png": "[encoded data removed]",
      "text/plain": [
       "<Figure size 432x288 with 1 Axes>"
      ]
     },
     "metadata": {
      "needs_background": "light"
     },
     "output_type": "display_data"
    }
   ],
   "source": [
    "pic.plot_history(history)"
   ]
  },
  {
   "cell_type": "code",
   "execution_count": 44,
   "metadata": {},
   "outputs": [],
   "source": [
    "y_b_pred = model.predict(X_p_test)"
   ]
  },
  {
   "cell_type": "code",
   "execution_count": 45,
   "metadata": {},
   "outputs": [
    {
     "data": {
      "image/png": "[encoded data removed]",
      "text/plain": [
       "<Figure size 432x288 with 1 Axes>"
      ]
     },
     "metadata": {
      "needs_background": "light"
     },
     "output_type": "display_data"
    }
   ],
   "source": [
    "pic.plot_roc(y_b_test[:,0],y_b_pred[:,0])"
   ]
  },
  {
   "cell_type": "code",
   "execution_count": null,
   "metadata": {},
   "outputs": [],
   "source": []
  }
 ],
 "metadata": {
  "interpreter": {
   "hash": "0dc50badf6bcf34ee37feb4ddab24eb1b71716d96fc6cae89d10c22f5e3462c0"
  },
  "kernelspec": {
   "display_name": "Python 3.8.10 64-bit ('base': conda)",
   "language": "python",
   "name": "python3"
  },
  "language_info": {
   "codemirror_mode": {
    "name": "ipython",
    "version": 3
   },
   "file_extension": ".py",
   "mimetype": "text/x-python",
   "name": "python",
   "nbconvert_exporter": "python",
   "pygments_lexer": "ipython3",
   "version": "3.8.10"
  },
  "orig_nbformat": 4
 },
 "nbformat": 4,
 "nbformat_minor": 2
}
