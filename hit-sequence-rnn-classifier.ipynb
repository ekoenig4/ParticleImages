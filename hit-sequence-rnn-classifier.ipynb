{
 "cells": [
  {
   "cell_type": "code",
   "execution_count": 1,
   "metadata": {},
   "outputs": [],
   "source": [
    "import numpy as np\n",
    "import awkward as ak\n",
    "np.random.seed(1337)  # for reproducibility\n",
    "\n",
    "from tensorflow import keras \n",
    "from tensorflow.keras import layers\n",
    "from tensorflow.keras.utils import to_categorical\n",
    "from tensorflow.keras import optimizers\n",
    "from keras.utils.vis_utils import plot_model\n",
    "\n",
    "from sklearn.metrics import roc_curve, auc, confusion_matrix\n",
    "\n",
    "import matplotlib.pyplot as plt\n",
    "import gc\n",
    "\n",
    "import utils as pic\n",
    "\n",
    "%load_ext autoreload\n",
    "%autoreload 2"
   ]
  },
  {
   "cell_type": "code",
   "execution_count": 2,
   "metadata": {},
   "outputs": [],
   "source": [
    "lr_init     = 1.e-2   # Initial learning rate  \n",
    "batch_size  = 100       # Training batch size\n",
    "train_size  = 5000     # Training size\n",
    "valid_size  = 2500     # Validation size\n",
    "test_size   = 2500     # Test size\n",
    "epochs      = 20       # Number of epochs\n",
    "doGPU       = False    # Use GPU\n",
    "tmin        = -0.1    # Minimum time cutoff\n",
    "tmax        = 0.1     # Maximum time cutoff"
   ]
  },
  {
   "cell_type": "code",
   "execution_count": 3,
   "metadata": {},
   "outputs": [],
   "source": [
    "# Set range of training set\n",
    "train_start, train_stop = 0, train_size\n",
    "assert train_stop > train_start\n",
    "assert (len(pic.decays)*train_size) % batch_size == 0\n",
    "X_train, y_train = pic.load_data(train_start,train_stop)\n",
    "\n",
    "# Set range of validation set\n",
    "valid_start, valid_stop = 160000, 160000+valid_size\n",
    "assert valid_stop  >  valid_start\n",
    "assert valid_start >= train_stop\n",
    "X_valid, y_valid = pic.load_data(valid_start,valid_stop)\n",
    "\n",
    "# Set range of test set\n",
    "test_start, test_stop = 204800, 204800+test_size\n",
    "assert test_stop  >  test_start\n",
    "assert test_start >= valid_stop\n",
    "X_test, y_test = pic.load_data(test_start,test_stop)\n",
    "\n",
    "samples_requested = len(pic.decays) * (train_size + valid_size + test_size)\n",
    "samples_available = len(y_train) + len(y_valid) + len(y_test)\n",
    "assert samples_requested == samples_available"
   ]
  },
  {
   "cell_type": "code",
   "execution_count": 4,
   "metadata": {},
   "outputs": [],
   "source": [
    "def build_hit_sequence(X,low_e=0.05,abstime=0.02):\n",
    "    index_map = np.indices((32, 32)).reshape(2,1,32*32)\n",
    "    X = pic.remove_empty_pixels(X,low_e,abstime).reshape(-1,32*32,2)\n",
    "    hit_e = X[:,:,0].reshape(-1,32*32,1)\n",
    "    hit_t = X[:,:,1].reshape(-1,32*32,1)\n",
    "    hit_x = np.where(~np.isnan(X[:,:,0]),index_map[0],np.nan).reshape(-1,32*32,1)\n",
    "    hit_y = np.where(~np.isnan(X[:,:,0]),index_map[1],np.nan).reshape(-1,32*32,1)\n",
    "    hit_features = np.concatenate([hit_e,hit_t,hit_x,hit_y],axis=-1)\n",
    "    timeorder = hit_features[:,:,1].argsort()\n",
    "    for i,(features,order) in enumerate(zip(hit_features,timeorder)):\n",
    "        hit_features[i,:,:] = features[order]\n",
    "    maxhits = np.max(np.sum(~np.isnan(hit_features[:,:,0]),axis=-1))\n",
    "    return hit_features[:,:maxhits,:],maxhits"
   ]
  },
  {
   "cell_type": "code",
   "execution_count": 5,
   "metadata": {},
   "outputs": [
    {
     "data": {
      "text/plain": [
       "(10000, 26, 4)"
      ]
     },
     "execution_count": 5,
     "metadata": {},
     "output_type": "execute_result"
    }
   ],
   "source": [
    "from sklearn.preprocessing import MinMaxScaler\n",
    "X_train,maxhits = build_hit_sequence(X_train)\n",
    "\n",
    "scaler = MinMaxScaler().fit(X_train.reshape(-1,4))\n",
    "\n",
    "maskint = 69\n",
    "def scale_and_mask(features,maxhits):\n",
    "    scaled = scaler.transform( features.reshape(-1,4) ).reshape(-1,maxhits,4)\n",
    "    masked = np.where(np.isnan(scaled),maskint,scaled)\n",
    "    return masked\n",
    "\n",
    "\n",
    "X_train = scale_and_mask(X_train,maxhits)\n",
    "y_b_train = to_categorical(y_train)\n",
    "X_train.shape"
   ]
  },
  {
   "cell_type": "code",
   "execution_count": 6,
   "metadata": {},
   "outputs": [],
   "source": [
    "X_valid = scale_and_mask(*build_hit_sequence(X_valid))\n",
    "y_b_valid = to_categorical(y_valid)"
   ]
  },
  {
   "cell_type": "code",
   "execution_count": 7,
   "metadata": {},
   "outputs": [],
   "source": [
    "X_test = scale_and_mask(*build_hit_sequence(X_test))\n",
    "y_b_test = to_categorical(y_test)"
   ]
  },
  {
   "cell_type": "code",
   "execution_count": 8,
   "metadata": {},
   "outputs": [
    {
     "name": "stdout",
     "output_type": "stream",
     "text": [
      "Model: \"sequential\"\n",
      "_________________________________________________________________\n",
      "Layer (type)                 Output Shape              Param #   \n",
      "=================================================================\n",
      "masking (Masking)            (None, None, 4)           0         \n",
      "_________________________________________________________________\n",
      "lstm (LSTM)                  (None, None, 128)         68096     \n",
      "_________________________________________________________________\n",
      "re_lu (ReLU)                 (None, None, 128)         0         \n",
      "_________________________________________________________________\n",
      "dense (Dense)                (None, None, 128)         16512     \n",
      "_________________________________________________________________\n",
      "re_lu_1 (ReLU)               (None, None, 128)         0         \n",
      "_________________________________________________________________\n",
      "lstm_1 (LSTM)                (None, None, 64)          49408     \n",
      "_________________________________________________________________\n",
      "re_lu_2 (ReLU)               (None, None, 64)          0         \n",
      "_________________________________________________________________\n",
      "dense_1 (Dense)              (None, None, 64)          4160      \n",
      "_________________________________________________________________\n",
      "re_lu_3 (ReLU)               (None, None, 64)          0         \n",
      "_________________________________________________________________\n",
      "lstm_2 (LSTM)                (None, 32)                12416     \n",
      "_________________________________________________________________\n",
      "re_lu_4 (ReLU)               (None, 32)                0         \n",
      "_________________________________________________________________\n",
      "dense_2 (Dense)              (None, 32)                1056      \n",
      "_________________________________________________________________\n",
      "re_lu_5 (ReLU)               (None, 32)                0         \n",
      "_________________________________________________________________\n",
      "dense_3 (Dense)              (None, 2)                 66        \n",
      "=================================================================\n",
      "Total params: 151,714\n",
      "Trainable params: 151,714\n",
      "Non-trainable params: 0\n",
      "_________________________________________________________________\n"
     ]
    }
   ],
   "source": [
    "model = keras.Sequential()\n",
    "\n",
    "model.add(layers.Masking(mask_value=maskint,input_shape=(None,4)))\n",
    "model.add(layers.LSTM(128,return_sequences=True))\n",
    "model.add(layers.ReLU())\n",
    "model.add(layers.Dense(128))\n",
    "model.add(layers.ReLU())\n",
    "model.add(layers.LSTM(64,return_sequences=True))\n",
    "model.add(layers.ReLU())\n",
    "model.add(layers.Dense(64))\n",
    "model.add(layers.ReLU())\n",
    "model.add(layers.LSTM(32))\n",
    "model.add(layers.ReLU())\n",
    "model.add(layers.Dense(32))\n",
    "model.add(layers.ReLU())\n",
    "model.add(layers.Dense(2,activation='softmax'))\n",
    "\n",
    "model.summary()"
   ]
  },
  {
   "cell_type": "code",
   "execution_count": 9,
   "metadata": {},
   "outputs": [],
   "source": [
    "model.compile(loss='binary_crossentropy', optimizer=optimizers.Adam(learning_rate=lr_init),metrics=['accuracy'])"
   ]
  },
  {
   "cell_type": "code",
   "execution_count": 10,
   "metadata": {},
   "outputs": [
    {
     "name": "stdout",
     "output_type": "stream",
     "text": [
      "Epoch 1/20\n",
      "100/100 [==============================] - 15s 95ms/step - loss: 0.6900 - accuracy: 0.5418 - val_loss: 0.6900 - val_accuracy: 0.5474\n",
      "Epoch 2/20\n",
      "100/100 [==============================] - 8s 78ms/step - loss: 0.6867 - accuracy: 0.5426 - val_loss: 0.6866 - val_accuracy: 0.5448\n",
      "Epoch 3/20\n",
      "100/100 [==============================] - 8s 77ms/step - loss: 0.6867 - accuracy: 0.5477 - val_loss: 0.6869 - val_accuracy: 0.5448\n",
      "Epoch 4/20\n",
      "100/100 [==============================] - 8s 83ms/step - loss: 0.6864 - accuracy: 0.5482 - val_loss: 0.6872 - val_accuracy: 0.5474\n",
      "Epoch 5/20\n",
      "100/100 [==============================] - 8s 77ms/step - loss: 0.6867 - accuracy: 0.5453 - val_loss: 0.6876 - val_accuracy: 0.5448\n",
      "Epoch 6/20\n",
      "100/100 [==============================] - 7s 72ms/step - loss: 0.6865 - accuracy: 0.5557 - val_loss: 0.6870 - val_accuracy: 0.5448\n",
      "Epoch 7/20\n",
      "100/100 [==============================] - 7s 72ms/step - loss: 0.6862 - accuracy: 0.5484 - val_loss: 0.6864 - val_accuracy: 0.5474\n",
      "Epoch 8/20\n",
      "100/100 [==============================] - 7s 74ms/step - loss: 0.6852 - accuracy: 0.5536 - val_loss: 0.6870 - val_accuracy: 0.5474\n",
      "Epoch 9/20\n",
      "100/100 [==============================] - 7s 74ms/step - loss: 0.6859 - accuracy: 0.5485 - val_loss: 0.6863 - val_accuracy: 0.5474\n",
      "Epoch 10/20\n",
      "100/100 [==============================] - 8s 75ms/step - loss: 0.6857 - accuracy: 0.5477 - val_loss: 0.6865 - val_accuracy: 0.5474\n",
      "Epoch 11/20\n",
      "100/100 [==============================] - 7s 75ms/step - loss: 0.6855 - accuracy: 0.5489 - val_loss: 0.6864 - val_accuracy: 0.5474\n",
      "Epoch 12/20\n",
      "100/100 [==============================] - 8s 76ms/step - loss: 0.6853 - accuracy: 0.5472 - val_loss: 0.6863 - val_accuracy: 0.5448\n",
      "Epoch 13/20\n",
      "100/100 [==============================] - 8s 76ms/step - loss: 0.6862 - accuracy: 0.5492 - val_loss: 0.6863 - val_accuracy: 0.5474\n",
      "Epoch 14/20\n",
      "100/100 [==============================] - 7s 72ms/step - loss: 0.6859 - accuracy: 0.5497 - val_loss: 0.6865 - val_accuracy: 0.5448\n",
      "Epoch 15/20\n",
      "100/100 [==============================] - 7s 73ms/step - loss: 0.6853 - accuracy: 0.5489 - val_loss: 0.6867 - val_accuracy: 0.5448\n",
      "Epoch 16/20\n",
      "100/100 [==============================] - 7s 72ms/step - loss: 0.6850 - accuracy: 0.5465 - val_loss: 0.6863 - val_accuracy: 0.5448\n",
      "Epoch 17/20\n",
      "100/100 [==============================] - 7s 73ms/step - loss: 0.6850 - accuracy: 0.5475 - val_loss: 0.6862 - val_accuracy: 0.5474\n",
      "Epoch 18/20\n",
      "100/100 [==============================] - 8s 77ms/step - loss: 0.6852 - accuracy: 0.5491 - val_loss: 0.6873 - val_accuracy: 0.5474\n",
      "Epoch 19/20\n",
      "100/100 [==============================] - 7s 72ms/step - loss: 0.6851 - accuracy: 0.5501 - val_loss: 0.6860 - val_accuracy: 0.5474\n",
      "Epoch 20/20\n",
      "100/100 [==============================] - 7s 74ms/step - loss: 0.6849 - accuracy: 0.5510 - val_loss: 0.6872 - val_accuracy: 0.5448\n"
     ]
    }
   ],
   "source": [
    "history = model.fit(\n",
    "    X_train, y_b_train,\n",
    "    validation_data=(X_valid,y_b_valid),\n",
    "    epochs=epochs,\n",
    "    batch_size=batch_size,\n",
    "    shuffle=True,\n",
    "    verbose=1\n",
    ")"
   ]
  },
  {
   "cell_type": "code",
   "execution_count": 11,
   "metadata": {},
   "outputs": [
    {
     "data": {
      "image/png": "[encoded data removed]",
      "text/plain": [
       "<Figure size 432x288 with 1 Axes>"
      ]
     },
     "metadata": {
      "needs_background": "light"
     },
     "output_type": "display_data"
    }
   ],
   "source": [
    "pic.plot_history(history)"
   ]
  },
  {
   "cell_type": "code",
   "execution_count": 12,
   "metadata": {},
   "outputs": [
    {
     "data": {
      "image/png": "[encoded data removed]",
      "text/plain": [
       "<Figure size 432x288 with 1 Axes>"
      ]
     },
     "metadata": {
      "needs_background": "light"
     },
     "output_type": "display_data"
    }
   ],
   "source": [
    "pic.plot_roc(y_b_test[:,0],model.predict(X_test)[:,0])"
   ]
  },
  {
   "cell_type": "code",
   "execution_count": null,
   "metadata": {},
   "outputs": [],
   "source": []
  }
 ],
 "metadata": {
  "interpreter": {
   "hash": "0dc50badf6bcf34ee37feb4ddab24eb1b71716d96fc6cae89d10c22f5e3462c0"
  },
  "kernelspec": {
   "display_name": "Python 3.8.10 64-bit ('base': conda)",
   "language": "python",
   "name": "python3"
  },
  "language_info": {
   "codemirror_mode": {
    "name": "ipython",
    "version": 3
   },
   "file_extension": ".py",
   "mimetype": "text/x-python",
   "name": "python",
   "nbconvert_exporter": "python",
   "pygments_lexer": "ipython3",
   "version": "3.8.10"
  },
  "orig_nbformat": 4
 },
 "nbformat": 4,
 "nbformat_minor": 2
}
