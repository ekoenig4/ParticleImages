{
 "cells": [
  {
   "cell_type": "code",
   "execution_count": 1,
   "metadata": {},
   "outputs": [],
   "source": [
    "import sys\n",
    "sys.path.append('../')\n",
    "\n",
    "import utils as pic"
   ]
  },
  {
   "cell_type": "markdown",
   "metadata": {},
   "source": [
    "# Classifing Collider Images Using 3D Convolution Neural Networks"
   ]
  },
  {
   "cell_type": "markdown",
   "metadata": {},
   "source": [
    "Evan Koenig\n",
    "\n",
    "PHY7097 Final Presentation"
   ]
  },
  {
   "cell_type": "markdown",
   "metadata": {},
   "source": [
    "## Introduction"
   ]
  },
  {
   "cell_type": "markdown",
   "metadata": {},
   "source": [
    "### At the LHC, proton-proton collisions are used to study the interactions between elementary particles and the fundementals of physics. From these collisions, thousands of particles are create and measured in trackers and calorimeters to be able to reconstruct each event. One crucial step in this reconstruction is particle identification. This can be a difficult task, involving many variables and complicated relationships, a perfect job for machine learning. \n",
    "\n",
    "<img src=\"plots/CollisionImage.png\" alt=\"Collision Image\">\n",
    "\n",
    "[[1] Hackathon GitHub](https://github.com/ML4SCI/ML4SCIHackathon/blob/main/ParticleImagesChallenge/images/CollisionImage.png)"
   ]
  },
  {
   "cell_type": "markdown",
   "metadata": {},
   "source": [
    "## Particle Images"
   ]
  },
  {
   "cell_type": "markdown",
   "metadata": {},
   "source": [
    "### The electromagnetic calorimeter (ECAL) is used to measure energy showers from electrons and photons. These energy showers are captured in pixel like cells in the ECAL and can be displayed in 32x32 images\n",
    "<img src=\"plots/energy-images.jpg\" alt=\"Calorimeter Images\" >\n"
   ]
  },
  {
   "cell_type": "markdown",
   "metadata": {},
   "source": [
    "### Along with the energy deposits, the relative time of the hits is also saved.\n",
    "<img src=\"plots/timing-images.jpg\" alt=\"Timing images\">"
   ]
  },
  {
   "cell_type": "markdown",
   "metadata": {},
   "source": [
    "### To understand the temporal component, we can investigate a space-time scatter plot of the energy deposits.\n",
    "<img src=\"plots/spacetime-scatter.jpg\" alt=\"Spacetime scatter plot\">"
   ]
  },
  {
   "cell_type": "markdown",
   "metadata": {},
   "source": [
    "### We can convert this 3D scatter plot to a 3D image by binning the time. We are then left with a dataset that we can feed into a 3D convolutional network."
   ]
  },
  {
   "cell_type": "markdown",
   "metadata": {},
   "source": [
    "## 3D Convolutional Network"
   ]
  },
  {
   "cell_type": "markdown",
   "metadata": {},
   "source": [
    "### This 3D convolutional network is a generalization of the 2D convolutional network. It implements 3D kernal filters that allow the network to understand relationships between each voxel (3D pixel).\n",
    "<img src=\"plots/1-s2.0-S0010448518301349-gr3_lrg.jpg\" alt=\"3D convolutional network scheme\">\n",
    "\n",
    "[[2] FeatureNet](https://www.sciencedirect.com/science/article/pii/S0010448518301349#fig3)"
   ]
  },
  {
   "cell_type": "markdown",
   "metadata": {},
   "source": [
    "## Building the Model"
   ]
  },
  {
   "cell_type": "markdown",
   "metadata": {},
   "source": [
    "### The 3D image data is transformed so that \n",
    "* ### Energy > 0.005: to reduce small energy deposits\n",
    "* ### |Time| < 0.1: to reduce empty cells\n",
    "* ### 21 time bins = 0.0099 time step: to keep enough time information \n",
    "* ### Earlier energy deposits linger in later time bins: so that the 3D image is like a folded out movie\n",
    "\n",
    "<p float=\"left\">\n",
    "<img src=\"plots/photon.gif\" alt=\"Photon energy gif\" width=600>\n",
    "<img src=\"plots/electron.gif\" alt=\"Electron energy gif\" width=600>\n",
    "</p>"
   ]
  },
  {
   "cell_type": "markdown",
   "metadata": {},
   "source": [
    "### In python, the model is defined as follows"
   ]
  },
  {
   "cell_type": "code",
   "execution_count": 2,
   "metadata": {},
   "outputs": [],
   "source": [
    "from tensorflow import keras\n",
    "from tensorflow.keras import layers\n",
    "import pickle\n",
    "\n",
    "model = keras.Sequential()\n",
    "\n",
    "model.add(layers.Reshape((21, 32, 32, 1),\n",
    "          input_shape=(21, 32, 32)))\n",
    "\n",
    "model.add(layers.Conv3D(64, 3, padding='same', activation='relu'))\n",
    "model.add(layers.Dropout(0.2))\n",
    "model.add(layers.BatchNormalization())\n",
    "model.add(layers.MaxPool3D())\n",
    "\n",
    "model.add(layers.Conv3D(32, 3, padding='same', activation='relu'))\n",
    "model.add(layers.Dropout(0.2))\n",
    "model.add(layers.BatchNormalization())\n",
    "model.add(layers.MaxPool3D())\n",
    "\n",
    "model.add(layers.Flatten())\n",
    "model.add(layers.Dense(64, activation='relu'))\n",
    "model.add(layers.Dense(32, activation='relu'))\n",
    "model.add(layers.Dense(2, activation='softmax'))"
   ]
  },
  {
   "cell_type": "code",
   "execution_count": 3,
   "metadata": {},
   "outputs": [
    {
     "name": "stdout",
     "output_type": "stream",
     "text": [
      "Model: \"sequential\"\n",
      "_________________________________________________________________\n",
      " Layer (type)                Output Shape              Param #   \n",
      "=================================================================\n",
      " reshape (Reshape)           (None, 21, 32, 32, 1)     0         \n",
      "                                                                 \n",
      " conv3d (Conv3D)             (None, 21, 32, 32, 64)    1792      \n",
      "                                                                 \n",
      " dropout (Dropout)           (None, 21, 32, 32, 64)    0         \n",
      "                                                                 \n",
      " batch_normalization (BatchN  (None, 21, 32, 32, 64)   256       \n",
      " ormalization)                                                   \n",
      "                                                                 \n",
      " max_pooling3d (MaxPooling3D  (None, 10, 16, 16, 64)   0         \n",
      " )                                                               \n",
      "                                                                 \n",
      " conv3d_1 (Conv3D)           (None, 10, 16, 16, 32)    55328     \n",
      "                                                                 \n",
      " dropout_1 (Dropout)         (None, 10, 16, 16, 32)    0         \n",
      "                                                                 \n",
      " batch_normalization_1 (Batc  (None, 10, 16, 16, 32)   128       \n",
      " hNormalization)                                                 \n",
      "                                                                 \n",
      " max_pooling3d_1 (MaxPooling  (None, 5, 8, 8, 32)      0         \n",
      " 3D)                                                             \n",
      "                                                                 \n",
      " flatten (Flatten)           (None, 10240)             0         \n",
      "                                                                 \n",
      " dense (Dense)               (None, 64)                655424    \n",
      "                                                                 \n",
      " dense_1 (Dense)             (None, 32)                2080      \n",
      "                                                                 \n",
      " dense_2 (Dense)             (None, 2)                 66        \n",
      "                                                                 \n",
      "=================================================================\n",
      "Total params: 715,074\n",
      "Trainable params: 714,882\n",
      "Non-trainable params: 192\n",
      "_________________________________________________________________\n"
     ]
    }
   ],
   "source": [
    "modeldir = '../models/cnn3d-v2-1.00e-01-9.90e-03/'\n",
    "model = keras.models.load_model(modeldir)\n",
    "with open(f'{modeldir}/history.pkl','rb') as f_history: history = pickle.load(f_history)\n",
    "model.summary()"
   ]
  },
  {
   "cell_type": "markdown",
   "metadata": {},
   "source": [
    "## Model Results"
   ]
  },
  {
   "cell_type": "markdown",
   "metadata": {},
   "source": [
    "### This model was trained on\n",
    "* ### 20000 training/validation images\n",
    "* ### 100 batch size\n",
    "* ### 100 epochs\n",
    "\n",
    "<img src=\"plots/model-history.jpg\" alt=\"Model history\">"
   ]
  },
  {
   "cell_type": "markdown",
   "metadata": {},
   "source": [
    "### The model's performance on the validation data has a lot of fluctuations. How does the model perform on test data?"
   ]
  },
  {
   "cell_type": "markdown",
   "metadata": {},
   "source": [
    "### The performance of the model can be evaluated using the reciever operator characteristic (ROC) curve. This curve plots the rate of correctly labeling an image agains the rate of incorrectly labeling one. \n",
    "\n",
    "<img src=\"plots/800px-Roc_curve.svg.png\" alt=\"General ROC curve\">"
   ]
  },
  {
   "cell_type": "markdown",
   "metadata": {},
   "source": [
    "### For this model the test data gives a ROC curve of \n",
    "\n",
    "<img src=\"plots/model-roc.jpg\" alt=\"Model ROC curve\">"
   ]
  },
  {
   "cell_type": "markdown",
   "metadata": {},
   "source": [
    "### This model does perform well on the training data, but the fluctuations are a concern. There is a chance that some hyperparameter optimization could help!"
   ]
  },
  {
   "cell_type": "markdown",
   "metadata": {},
   "source": [
    "## Hyperparameter Optimization Using Talos"
   ]
  },
  {
   "cell_type": "markdown",
   "metadata": {},
   "source": [
    "### Optimizing hyperparameters can be a daunting task, since there can be some many different parameters to change. The Talos python package can take any keras model, with minimal changes to the existing code, and produce a grid or random search of hyperparameter space. The package can be installed using `pip install talos`. Taking the model that has built so far, we can create a parameter search for the number of filters, kernal size, number of dense nodes, and activation. Taking the existing model, we can put it into its own function"
   ]
  },
  {
   "cell_type": "code",
   "execution_count": 4,
   "metadata": {},
   "outputs": [],
   "source": [
    "def cnn3d_model(X_train,y_train,X_valid,y_valid,params):\n",
    "    \"\"\"Build CNN3D model and train it with passed parameters\n",
    "\n",
    "    Args:\n",
    "        X_train (array): Training data\n",
    "        y_train (array): Training target\n",
    "        X_valid (array): Validation data\n",
    "        y_valid (array): Validation target\n",
    "        params (dict): Dictionary of parameters\n",
    "    \"\"\"\n",
    "    model = keras.Sequential()\n",
    "\n",
    "    model.add(layers.Reshape((21, 32, 32, 1),\n",
    "            input_shape=(21, 32, 32)))\n",
    "\n",
    "    model.add(layers.Conv3D(params['filters_1'], params['kernal_1'], padding='same', activation=params['activation']))\n",
    "    model.add(layers.Dropout(0.2))\n",
    "    model.add(layers.BatchNormalization())\n",
    "    model.add(layers.MaxPool3D())\n",
    "\n",
    "    model.add(layers.Conv3D(params['filters_2'], params['kernal_2'], padding='same', activation=params['activation']))\n",
    "    model.add(layers.Dropout(0.2))\n",
    "    model.add(layers.BatchNormalization())\n",
    "    model.add(layers.MaxPool3D())\n",
    "\n",
    "    model.add(layers.Flatten())\n",
    "    model.add(layers.Dense(params['dense_1'], activation=params['activation']))\n",
    "    model.add(layers.Dense(params['dense_2'], activation=params['activation']))\n",
    "    model.add(layers.Dense(2, activation='softmax'))\n",
    "\n",
    "    model.compile(loss='binary_crossentropy', optimizer='adam', metrics=['accuracy'])\n",
    "    \n",
    "    history = model.fit(\n",
    "        X_train, y_train,\n",
    "        validation_data=(X_valid, y_valid),\n",
    "        epochs=20,\n",
    "        batch_size=10,\n",
    "        shuffle=True,\n",
    "        verbose=0\n",
    "    )\n",
    "    return history,model"
   ]
  },
  {
   "cell_type": "markdown",
   "metadata": {},
   "source": [
    "### Once the model function is defined, we need to define the parameters for Talos to search"
   ]
  },
  {
   "cell_type": "code",
   "execution_count": 5,
   "metadata": {},
   "outputs": [],
   "source": [
    "params = {\n",
    "    'activation': ['relu','elu'],\n",
    "    'filters_1': [32,64,96],\n",
    "    'kernal_1': [1,3,5],\n",
    "    'filters_2': [32,64,96],\n",
    "    'kernal_2': [1,3,5],\n",
    "    'dense_1': [32,64,96],\n",
    "    'dense_2': [32,64,96],\n",
    "}"
   ]
  },
  {
   "cell_type": "markdown",
   "metadata": {},
   "source": [
    "### With the parameters defined, we can then call the Talos.Scan to begin a parameter search. However, a full grid search would result in 486 permutations which is long and expensive. Talos allows you select a random fraction of the permutations to run as a random search."
   ]
  },
  {
   "cell_type": "code",
   "execution_count": 6,
   "metadata": {},
   "outputs": [],
   "source": [
    "X_train, y_train = pic.load_data(0,100)\n",
    "\n",
    "X_train,_,_,_ = pic.timeordered_BC(X_train,cumulative=True,min_t=-0.1,max_t=0.1)\n",
    "y_train = keras.utils.to_categorical(y_train)"
   ]
  },
  {
   "cell_type": "code",
   "execution_count": 7,
   "metadata": {},
   "outputs": [
    {
     "name": "stderr",
     "output_type": "stream",
     "text": [
      "100%|██████████| 14/14 [01:47<00:00,  7.69s/it]\n"
     ]
    }
   ],
   "source": [
    "import talos\n",
    "\n",
    "scan = talos.Scan(\n",
    "    X_train,y_train,params,cnn3d_model,'cnn3d',fraction_limit=0.01\n",
    ")"
   ]
  },
  {
   "cell_type": "markdown",
   "metadata": {},
   "source": [
    "### Once the scan is finished, the scan object holds the metrics for each of the models that it ran in a pandas DataFrame"
   ]
  },
  {
   "cell_type": "code",
   "execution_count": 8,
   "metadata": {},
   "outputs": [
    {
     "data": {
      "text/html": [
       "<div>\n",
       "<style scoped>\n",
       "    .dataframe tbody tr th:only-of-type {\n",
       "        vertical-align: middle;\n",
       "    }\n",
       "\n",
       "    .dataframe tbody tr th {\n",
       "        vertical-align: top;\n",
       "    }\n",
       "\n",
       "    .dataframe thead th {\n",
       "        text-align: right;\n",
       "    }\n",
       "</style>\n",
       "<table border=\"1\" class=\"dataframe\">\n",
       "  <thead>\n",
       "    <tr style=\"text-align: right;\">\n",
       "      <th></th>\n",
       "      <th>start</th>\n",
       "      <th>end</th>\n",
       "      <th>duration</th>\n",
       "      <th>round_epochs</th>\n",
       "      <th>loss</th>\n",
       "      <th>accuracy</th>\n",
       "      <th>val_loss</th>\n",
       "      <th>val_accuracy</th>\n",
       "      <th>activation</th>\n",
       "      <th>dense_1</th>\n",
       "      <th>dense_2</th>\n",
       "      <th>filters_1</th>\n",
       "      <th>filters_2</th>\n",
       "      <th>kernal_1</th>\n",
       "      <th>kernal_2</th>\n",
       "    </tr>\n",
       "  </thead>\n",
       "  <tbody>\n",
       "    <tr>\n",
       "      <th>0</th>\n",
       "      <td>11/29/21-201603</td>\n",
       "      <td>11/29/21-201613</td>\n",
       "      <td>9.483703</td>\n",
       "      <td>20</td>\n",
       "      <td>0.523241</td>\n",
       "      <td>0.700000</td>\n",
       "      <td>0.721060</td>\n",
       "      <td>0.483333</td>\n",
       "      <td>relu</td>\n",
       "      <td>64</td>\n",
       "      <td>32</td>\n",
       "      <td>96</td>\n",
       "      <td>32</td>\n",
       "      <td>5</td>\n",
       "      <td>1</td>\n",
       "    </tr>\n",
       "    <tr>\n",
       "      <th>1</th>\n",
       "      <td>11/29/21-201613</td>\n",
       "      <td>11/29/21-201622</td>\n",
       "      <td>8.852265</td>\n",
       "      <td>20</td>\n",
       "      <td>0.612493</td>\n",
       "      <td>0.657143</td>\n",
       "      <td>0.753675</td>\n",
       "      <td>0.516667</td>\n",
       "      <td>relu</td>\n",
       "      <td>96</td>\n",
       "      <td>96</td>\n",
       "      <td>96</td>\n",
       "      <td>32</td>\n",
       "      <td>1</td>\n",
       "      <td>5</td>\n",
       "    </tr>\n",
       "    <tr>\n",
       "      <th>2</th>\n",
       "      <td>11/29/21-201622</td>\n",
       "      <td>11/29/21-201631</td>\n",
       "      <td>9.023381</td>\n",
       "      <td>20</td>\n",
       "      <td>0.635730</td>\n",
       "      <td>0.650000</td>\n",
       "      <td>3.772153</td>\n",
       "      <td>0.516667</td>\n",
       "      <td>elu</td>\n",
       "      <td>96</td>\n",
       "      <td>64</td>\n",
       "      <td>96</td>\n",
       "      <td>32</td>\n",
       "      <td>1</td>\n",
       "      <td>5</td>\n",
       "    </tr>\n",
       "    <tr>\n",
       "      <th>3</th>\n",
       "      <td>11/29/21-201631</td>\n",
       "      <td>11/29/21-201638</td>\n",
       "      <td>7.201939</td>\n",
       "      <td>20</td>\n",
       "      <td>0.592546</td>\n",
       "      <td>0.642857</td>\n",
       "      <td>2.848106</td>\n",
       "      <td>0.516667</td>\n",
       "      <td>elu</td>\n",
       "      <td>64</td>\n",
       "      <td>96</td>\n",
       "      <td>96</td>\n",
       "      <td>96</td>\n",
       "      <td>3</td>\n",
       "      <td>1</td>\n",
       "    </tr>\n",
       "    <tr>\n",
       "      <th>4</th>\n",
       "      <td>11/29/21-201638</td>\n",
       "      <td>11/29/21-201644</td>\n",
       "      <td>5.527343</td>\n",
       "      <td>20</td>\n",
       "      <td>0.681178</td>\n",
       "      <td>0.542857</td>\n",
       "      <td>2.189734</td>\n",
       "      <td>0.483333</td>\n",
       "      <td>elu</td>\n",
       "      <td>32</td>\n",
       "      <td>96</td>\n",
       "      <td>64</td>\n",
       "      <td>64</td>\n",
       "      <td>1</td>\n",
       "      <td>1</td>\n",
       "    </tr>\n",
       "    <tr>\n",
       "      <th>5</th>\n",
       "      <td>11/29/21-201644</td>\n",
       "      <td>11/29/21-201652</td>\n",
       "      <td>7.575909</td>\n",
       "      <td>20</td>\n",
       "      <td>0.677442</td>\n",
       "      <td>0.571429</td>\n",
       "      <td>1.640824</td>\n",
       "      <td>0.516667</td>\n",
       "      <td>elu</td>\n",
       "      <td>96</td>\n",
       "      <td>96</td>\n",
       "      <td>32</td>\n",
       "      <td>64</td>\n",
       "      <td>5</td>\n",
       "      <td>5</td>\n",
       "    </tr>\n",
       "    <tr>\n",
       "      <th>6</th>\n",
       "      <td>11/29/21-201652</td>\n",
       "      <td>11/29/21-201706</td>\n",
       "      <td>13.611354</td>\n",
       "      <td>20</td>\n",
       "      <td>0.640614</td>\n",
       "      <td>0.642857</td>\n",
       "      <td>1.392052</td>\n",
       "      <td>0.516667</td>\n",
       "      <td>relu</td>\n",
       "      <td>64</td>\n",
       "      <td>96</td>\n",
       "      <td>96</td>\n",
       "      <td>96</td>\n",
       "      <td>1</td>\n",
       "      <td>5</td>\n",
       "    </tr>\n",
       "    <tr>\n",
       "      <th>7</th>\n",
       "      <td>11/29/21-201706</td>\n",
       "      <td>11/29/21-201712</td>\n",
       "      <td>5.817755</td>\n",
       "      <td>20</td>\n",
       "      <td>0.398432</td>\n",
       "      <td>0.807143</td>\n",
       "      <td>0.698768</td>\n",
       "      <td>0.466667</td>\n",
       "      <td>relu</td>\n",
       "      <td>96</td>\n",
       "      <td>32</td>\n",
       "      <td>64</td>\n",
       "      <td>96</td>\n",
       "      <td>3</td>\n",
       "      <td>1</td>\n",
       "    </tr>\n",
       "    <tr>\n",
       "      <th>8</th>\n",
       "      <td>11/29/21-201712</td>\n",
       "      <td>11/29/21-201719</td>\n",
       "      <td>6.945966</td>\n",
       "      <td>20</td>\n",
       "      <td>0.410493</td>\n",
       "      <td>0.792857</td>\n",
       "      <td>0.697622</td>\n",
       "      <td>0.516667</td>\n",
       "      <td>relu</td>\n",
       "      <td>96</td>\n",
       "      <td>64</td>\n",
       "      <td>96</td>\n",
       "      <td>64</td>\n",
       "      <td>3</td>\n",
       "      <td>1</td>\n",
       "    </tr>\n",
       "    <tr>\n",
       "      <th>9</th>\n",
       "      <td>11/29/21-201719</td>\n",
       "      <td>11/29/21-201724</td>\n",
       "      <td>4.835487</td>\n",
       "      <td>20</td>\n",
       "      <td>0.461609</td>\n",
       "      <td>0.764286</td>\n",
       "      <td>0.689068</td>\n",
       "      <td>0.533333</td>\n",
       "      <td>elu</td>\n",
       "      <td>32</td>\n",
       "      <td>32</td>\n",
       "      <td>32</td>\n",
       "      <td>64</td>\n",
       "      <td>5</td>\n",
       "      <td>1</td>\n",
       "    </tr>\n",
       "    <tr>\n",
       "      <th>10</th>\n",
       "      <td>11/29/21-201724</td>\n",
       "      <td>11/29/21-201733</td>\n",
       "      <td>8.772733</td>\n",
       "      <td>20</td>\n",
       "      <td>0.661456</td>\n",
       "      <td>0.635714</td>\n",
       "      <td>0.736855</td>\n",
       "      <td>0.483333</td>\n",
       "      <td>relu</td>\n",
       "      <td>32</td>\n",
       "      <td>32</td>\n",
       "      <td>96</td>\n",
       "      <td>64</td>\n",
       "      <td>5</td>\n",
       "      <td>3</td>\n",
       "    </tr>\n",
       "    <tr>\n",
       "      <th>11</th>\n",
       "      <td>11/29/21-201733</td>\n",
       "      <td>11/29/21-201739</td>\n",
       "      <td>6.259173</td>\n",
       "      <td>20</td>\n",
       "      <td>0.635692</td>\n",
       "      <td>0.585714</td>\n",
       "      <td>0.721075</td>\n",
       "      <td>0.483333</td>\n",
       "      <td>elu</td>\n",
       "      <td>32</td>\n",
       "      <td>96</td>\n",
       "      <td>64</td>\n",
       "      <td>64</td>\n",
       "      <td>5</td>\n",
       "      <td>1</td>\n",
       "    </tr>\n",
       "    <tr>\n",
       "      <th>12</th>\n",
       "      <td>11/29/21-201739</td>\n",
       "      <td>11/29/21-201744</td>\n",
       "      <td>4.713363</td>\n",
       "      <td>20</td>\n",
       "      <td>0.505224</td>\n",
       "      <td>0.778571</td>\n",
       "      <td>1.612278</td>\n",
       "      <td>0.516667</td>\n",
       "      <td>relu</td>\n",
       "      <td>96</td>\n",
       "      <td>64</td>\n",
       "      <td>32</td>\n",
       "      <td>64</td>\n",
       "      <td>3</td>\n",
       "      <td>3</td>\n",
       "    </tr>\n",
       "    <tr>\n",
       "      <th>13</th>\n",
       "      <td>11/29/21-201744</td>\n",
       "      <td>11/29/21-201751</td>\n",
       "      <td>6.088650</td>\n",
       "      <td>20</td>\n",
       "      <td>0.607621</td>\n",
       "      <td>0.664286</td>\n",
       "      <td>4.635387</td>\n",
       "      <td>0.516667</td>\n",
       "      <td>elu</td>\n",
       "      <td>64</td>\n",
       "      <td>32</td>\n",
       "      <td>64</td>\n",
       "      <td>64</td>\n",
       "      <td>1</td>\n",
       "      <td>3</td>\n",
       "    </tr>\n",
       "  </tbody>\n",
       "</table>\n",
       "</div>"
      ],
      "text/plain": [
       "              start              end   duration  round_epochs      loss  \\\n",
       "0   11/29/21-201603  11/29/21-201613   9.483703            20  0.523241   \n",
       "1   11/29/21-201613  11/29/21-201622   8.852265            20  0.612493   \n",
       "2   11/29/21-201622  11/29/21-201631   9.023381            20  0.635730   \n",
       "3   11/29/21-201631  11/29/21-201638   7.201939            20  0.592546   \n",
       "4   11/29/21-201638  11/29/21-201644   5.527343            20  0.681178   \n",
       "5   11/29/21-201644  11/29/21-201652   7.575909            20  0.677442   \n",
       "6   11/29/21-201652  11/29/21-201706  13.611354            20  0.640614   \n",
       "7   11/29/21-201706  11/29/21-201712   5.817755            20  0.398432   \n",
       "8   11/29/21-201712  11/29/21-201719   6.945966            20  0.410493   \n",
       "9   11/29/21-201719  11/29/21-201724   4.835487            20  0.461609   \n",
       "10  11/29/21-201724  11/29/21-201733   8.772733            20  0.661456   \n",
       "11  11/29/21-201733  11/29/21-201739   6.259173            20  0.635692   \n",
       "12  11/29/21-201739  11/29/21-201744   4.713363            20  0.505224   \n",
       "13  11/29/21-201744  11/29/21-201751   6.088650            20  0.607621   \n",
       "\n",
       "    accuracy  val_loss  val_accuracy activation  dense_1  dense_2  filters_1  \\\n",
       "0   0.700000  0.721060      0.483333       relu       64       32         96   \n",
       "1   0.657143  0.753675      0.516667       relu       96       96         96   \n",
       "2   0.650000  3.772153      0.516667        elu       96       64         96   \n",
       "3   0.642857  2.848106      0.516667        elu       64       96         96   \n",
       "4   0.542857  2.189734      0.483333        elu       32       96         64   \n",
       "5   0.571429  1.640824      0.516667        elu       96       96         32   \n",
       "6   0.642857  1.392052      0.516667       relu       64       96         96   \n",
       "7   0.807143  0.698768      0.466667       relu       96       32         64   \n",
       "8   0.792857  0.697622      0.516667       relu       96       64         96   \n",
       "9   0.764286  0.689068      0.533333        elu       32       32         32   \n",
       "10  0.635714  0.736855      0.483333       relu       32       32         96   \n",
       "11  0.585714  0.721075      0.483333        elu       32       96         64   \n",
       "12  0.778571  1.612278      0.516667       relu       96       64         32   \n",
       "13  0.664286  4.635387      0.516667        elu       64       32         64   \n",
       "\n",
       "    filters_2  kernal_1  kernal_2  \n",
       "0          32         5         1  \n",
       "1          32         1         5  \n",
       "2          32         1         5  \n",
       "3          96         3         1  \n",
       "4          64         1         1  \n",
       "5          64         5         5  \n",
       "6          96         1         5  \n",
       "7          96         3         1  \n",
       "8          64         3         1  \n",
       "9          64         5         1  \n",
       "10         64         5         3  \n",
       "11         64         5         1  \n",
       "12         64         3         3  \n",
       "13         64         1         3  "
      ]
     },
     "execution_count": 8,
     "metadata": {},
     "output_type": "execute_result"
    }
   ],
   "source": [
    "scan.data"
   ]
  },
  {
   "cell_type": "markdown",
   "metadata": {},
   "source": [
    "### This information is also saved in a new directory as a csv file. For the models it trained, we can used pandas methods to determine the best parameters"
   ]
  },
  {
   "cell_type": "code",
   "execution_count": 11,
   "metadata": {
    "scrolled": true
   },
   "outputs": [
    {
     "data": {
      "text/html": [
       "<div>\n",
       "<style scoped>\n",
       "    .dataframe tbody tr th:only-of-type {\n",
       "        vertical-align: middle;\n",
       "    }\n",
       "\n",
       "    .dataframe tbody tr th {\n",
       "        vertical-align: top;\n",
       "    }\n",
       "\n",
       "    .dataframe thead th {\n",
       "        text-align: right;\n",
       "    }\n",
       "</style>\n",
       "<table border=\"1\" class=\"dataframe\">\n",
       "  <thead>\n",
       "    <tr style=\"text-align: right;\">\n",
       "      <th></th>\n",
       "      <th>start</th>\n",
       "      <th>end</th>\n",
       "      <th>duration</th>\n",
       "      <th>round_epochs</th>\n",
       "      <th>loss</th>\n",
       "      <th>accuracy</th>\n",
       "      <th>val_loss</th>\n",
       "      <th>val_accuracy</th>\n",
       "      <th>activation</th>\n",
       "      <th>dense_1</th>\n",
       "      <th>dense_2</th>\n",
       "      <th>filters_1</th>\n",
       "      <th>filters_2</th>\n",
       "      <th>kernal_1</th>\n",
       "      <th>kernal_2</th>\n",
       "    </tr>\n",
       "  </thead>\n",
       "  <tbody>\n",
       "    <tr>\n",
       "      <th>9</th>\n",
       "      <td>11/29/21-201719</td>\n",
       "      <td>11/29/21-201724</td>\n",
       "      <td>4.835487</td>\n",
       "      <td>20</td>\n",
       "      <td>0.461609</td>\n",
       "      <td>0.764286</td>\n",
       "      <td>0.689068</td>\n",
       "      <td>0.533333</td>\n",
       "      <td>elu</td>\n",
       "      <td>32</td>\n",
       "      <td>32</td>\n",
       "      <td>32</td>\n",
       "      <td>64</td>\n",
       "      <td>5</td>\n",
       "      <td>1</td>\n",
       "    </tr>\n",
       "    <tr>\n",
       "      <th>8</th>\n",
       "      <td>11/29/21-201712</td>\n",
       "      <td>11/29/21-201719</td>\n",
       "      <td>6.945966</td>\n",
       "      <td>20</td>\n",
       "      <td>0.410493</td>\n",
       "      <td>0.792857</td>\n",
       "      <td>0.697622</td>\n",
       "      <td>0.516667</td>\n",
       "      <td>relu</td>\n",
       "      <td>96</td>\n",
       "      <td>64</td>\n",
       "      <td>96</td>\n",
       "      <td>64</td>\n",
       "      <td>3</td>\n",
       "      <td>1</td>\n",
       "    </tr>\n",
       "    <tr>\n",
       "      <th>7</th>\n",
       "      <td>11/29/21-201706</td>\n",
       "      <td>11/29/21-201712</td>\n",
       "      <td>5.817755</td>\n",
       "      <td>20</td>\n",
       "      <td>0.398432</td>\n",
       "      <td>0.807143</td>\n",
       "      <td>0.698768</td>\n",
       "      <td>0.466667</td>\n",
       "      <td>relu</td>\n",
       "      <td>96</td>\n",
       "      <td>32</td>\n",
       "      <td>64</td>\n",
       "      <td>96</td>\n",
       "      <td>3</td>\n",
       "      <td>1</td>\n",
       "    </tr>\n",
       "    <tr>\n",
       "      <th>0</th>\n",
       "      <td>11/29/21-201603</td>\n",
       "      <td>11/29/21-201613</td>\n",
       "      <td>9.483703</td>\n",
       "      <td>20</td>\n",
       "      <td>0.523241</td>\n",
       "      <td>0.700000</td>\n",
       "      <td>0.721060</td>\n",
       "      <td>0.483333</td>\n",
       "      <td>relu</td>\n",
       "      <td>64</td>\n",
       "      <td>32</td>\n",
       "      <td>96</td>\n",
       "      <td>32</td>\n",
       "      <td>5</td>\n",
       "      <td>1</td>\n",
       "    </tr>\n",
       "    <tr>\n",
       "      <th>11</th>\n",
       "      <td>11/29/21-201733</td>\n",
       "      <td>11/29/21-201739</td>\n",
       "      <td>6.259173</td>\n",
       "      <td>20</td>\n",
       "      <td>0.635692</td>\n",
       "      <td>0.585714</td>\n",
       "      <td>0.721075</td>\n",
       "      <td>0.483333</td>\n",
       "      <td>elu</td>\n",
       "      <td>32</td>\n",
       "      <td>96</td>\n",
       "      <td>64</td>\n",
       "      <td>64</td>\n",
       "      <td>5</td>\n",
       "      <td>1</td>\n",
       "    </tr>\n",
       "  </tbody>\n",
       "</table>\n",
       "</div>"
      ],
      "text/plain": [
       "              start              end  duration  round_epochs      loss  \\\n",
       "9   11/29/21-201719  11/29/21-201724  4.835487            20  0.461609   \n",
       "8   11/29/21-201712  11/29/21-201719  6.945966            20  0.410493   \n",
       "7   11/29/21-201706  11/29/21-201712  5.817755            20  0.398432   \n",
       "0   11/29/21-201603  11/29/21-201613  9.483703            20  0.523241   \n",
       "11  11/29/21-201733  11/29/21-201739  6.259173            20  0.635692   \n",
       "\n",
       "    accuracy  val_loss  val_accuracy activation  dense_1  dense_2  filters_1  \\\n",
       "9   0.764286  0.689068      0.533333        elu       32       32         32   \n",
       "8   0.792857  0.697622      0.516667       relu       96       64         96   \n",
       "7   0.807143  0.698768      0.466667       relu       96       32         64   \n",
       "0   0.700000  0.721060      0.483333       relu       64       32         96   \n",
       "11  0.585714  0.721075      0.483333        elu       32       96         64   \n",
       "\n",
       "    filters_2  kernal_1  kernal_2  \n",
       "9          64         5         1  \n",
       "8          64         3         1  \n",
       "7          96         3         1  \n",
       "0          32         5         1  \n",
       "11         64         5         1  "
      ]
     },
     "execution_count": 11,
     "metadata": {},
     "output_type": "execute_result"
    }
   ],
   "source": [
    "scan.data.sort_values(\"val_loss\")[:5]"
   ]
  },
  {
   "cell_type": "markdown",
   "metadata": {},
   "source": [
    "## Conclusion"
   ]
  },
  {
   "cell_type": "markdown",
   "metadata": {},
   "source": [
    "### The model presented does very well with the test data, but there is room for improvement. Investigating a large variety of hyperparameters, such as time steps, energy cuts, and model complexity, could help improve the model. Implementing the Talos framework into the workflow can help streamline this process, but it is still a time expensive task."
   ]
  }
 ],
 "metadata": {
  "interpreter": {
   "hash": "0dc50badf6bcf34ee37feb4ddab24eb1b71716d96fc6cae89d10c22f5e3462c0"
  },
  "kernelspec": {
   "display_name": "Python 3",
   "language": "python",
   "name": "python3"
  },
  "language_info": {
   "codemirror_mode": {
    "name": "ipython",
    "version": 3
   },
   "file_extension": ".py",
   "mimetype": "text/x-python",
   "name": "python",
   "nbconvert_exporter": "python",
   "pygments_lexer": "ipython3",
   "version": "3.8.10"
  }
 },
 "nbformat": 4,
 "nbformat_minor": 2
}
