{
 "cells": [
  {
   "cell_type": "code",
   "execution_count": 24,
   "metadata": {},
   "outputs": [],
   "source": [
    "import numpy as np\n",
    "import awkward as ak\n",
    "np.random.seed(1337)  # for reproducibility\n",
    "\n",
    "from tensorflow import keras \n",
    "from tensorflow.keras import layers\n",
    "from tensorflow.keras.utils import to_categorical\n",
    "from keras.utils.vis_utils import plot_model\n",
    "from keras.layers import GlobalAveragePooling3D,AveragePooling3D,ConvLSTM2D,TimeDistributed, Reshape, Input, Dense, Dropout, Flatten, Conv3D, MaxPooling3D,Conv2D, MaxPooling2D,BatchNormalization,AveragePooling2D, concatenate\n",
    "from keras.models import Sequential,Model\n",
    "from tensorflow.keras.optimizers import Adam\n",
    "from keras.callbacks import ReduceLROnPlateau,ModelCheckpoint\n",
    "\n",
    "from os import system\n",
    "from os.path import exists\n",
    "\n",
    "from sklearn.metrics import roc_curve, auc\n",
    "\n",
    "import matplotlib.pyplot as plt\n",
    "\n",
    "import utils as pic"
   ]
  },
  {
   "cell_type": "code",
   "execution_count": 32,
   "metadata": {},
   "outputs": [],
   "source": [
    "lr_init     = 1.e-3    # Initial learning rate  \n",
    "batch_size  = 50       # Training batch size\n",
    "train_size  = 2000     # Training size\n",
    "valid_size  = 1000     # Validation size\n",
    "test_size   = 1000     # Test size\n",
    "epochs      = 5       # Number of epochs\n",
    "doGPU       = False    # Use GPU\n",
    "min_t       =-0.015 #Min time\n",
    "max_t       =0.01 #Max time\n",
    "t_step      =0.00099 #time step"
   ]
  },
  {
   "cell_type": "code",
   "execution_count": 33,
   "metadata": {},
   "outputs": [],
   "source": [
    "# Set range of training set\n",
    "train_start, train_stop = 0, train_size\n",
    "assert train_stop > train_start\n",
    "assert (len(pic.decays)*train_size) % batch_size == 0\n",
    "X_train, y_train = pic.load_data(train_start,train_stop)\n",
    "\n",
    "# Set range of validation set\n",
    "valid_start, valid_stop = 160000, 160000+valid_size\n",
    "assert valid_stop  >  valid_start\n",
    "assert valid_start >= train_stop\n",
    "X_valid, y_valid = pic.load_data(valid_start,valid_stop)\n",
    "\n",
    "# Set range of test set\n",
    "test_start, test_stop = 204800, 204800+test_size\n",
    "assert test_stop  >  test_start\n",
    "assert test_start >= valid_stop\n",
    "X_test, y_test = pic.load_data(test_start,test_stop)\n",
    "\n",
    "samples_requested = len(pic.decays) * (train_size + valid_size + test_size)\n",
    "samples_available = len(y_train) + len(y_valid) + len(y_test)\n",
    "assert samples_requested == samples_available"
   ]
  },
  {
   "cell_type": "code",
   "execution_count": 34,
   "metadata": {},
   "outputs": [],
   "source": [
    "X_e_train,X_t_train,maxframes,t_bins,X_e_max_train,X_t_max_train = pic.timeordered_BC(X_train,cutoff=0.005,remove_empty=True,normalize=True,min_t = min_t,max_t = max_t,t_step=t_step)\n",
    "y_b_train = to_categorical(y_train)\n",
    "X_e_valid,X_t_valid,_,t_bins,X_e_max_valid,X_t_max_valid = pic.timeordered_BC(X_valid,cutoff=0.005,remove_empty=True,normalize=True,min_t = min_t,max_t = max_t,t_step=t_step)\n",
    "y_b_valid = to_categorical(y_valid)\n",
    "X_e_test,X_t_test,_,t_bins,X_e_max_test,X_t_max_test = pic.timeordered_BC(X_test,cutoff=0.005,remove_empty=True,normalize=True,min_t = min_t,max_t = max_t,t_step=t_step)\n",
    "y_b_test = to_categorical(y_test)"
   ]
  },
  {
   "cell_type": "code",
   "execution_count": 35,
   "metadata": {},
   "outputs": [],
   "source": [
    "#Input image\n",
    "input_3d = Input(shape=(maxframes,32, 32, 1))"
   ]
  },
  {
   "cell_type": "code",
   "execution_count": 36,
   "metadata": {},
   "outputs": [
    {
     "data": {
      "text/plain": [
       "TensorShape([None, 26, 32, 32, 1])"
      ]
     },
     "execution_count": 36,
     "metadata": {},
     "output_type": "execute_result"
    }
   ],
   "source": [
    "input_3d.shape"
   ]
  },
  {
   "cell_type": "code",
   "execution_count": 37,
   "metadata": {},
   "outputs": [],
   "source": [
    "#MRI scan conv3d \n",
    "model_name = 'cnn_3d_1'\n",
    "\n",
    "x = Conv3D(filters=64, kernel_size=3,padding='same', activation='relu')(input_3d)\n",
    "x = MaxPooling3D(pool_size=2)(x)\n",
    "x = BatchNormalization()(x)\n",
    "\n",
    "x = Conv3D(filters=64, kernel_size=3,padding='same',activation='relu')(x)\n",
    "x = MaxPooling3D(2)(x)\n",
    "x = BatchNormalization()(x)\n",
    "\n",
    "x = Conv3D(filters=128, kernel_size=3,padding='same', activation='relu')(x)\n",
    "x = MaxPooling3D(2)(x)\n",
    "x = BatchNormalization()(x)\n",
    "\n",
    "x = GlobalAveragePooling3D()(x)\n",
    "#x = Flatten()(x)\n",
    "x = Dense(units=512, activation='relu')(x)\n",
    "x = Dropout(0.3)(x)\n",
    "\n",
    "output = Dense(1, activation='sigmoid', kernel_initializer='TruncatedNormal')(x)\n",
    "model_1 = Model([input_3d],output,name='cnn_3d_1')\n",
    "#model.summary()"
   ]
  },
  {
   "cell_type": "code",
   "execution_count": 38,
   "metadata": {},
   "outputs": [],
   "source": [
    "plot_model(model_1,show_shapes=True,to_file=f'{model_name}.png')\n",
    "system('mv *.png Models/');\n",
    "#Checkpoint and reduce lr\n",
    "reduce_lr = ReduceLROnPlateau(monitor='val_loss', factor=0.2, patience=2, min_lr=1.e-6)\n",
    "checkpoint_cb = ModelCheckpoint(\"conv3d_1.h5\", save_best_only=True)\n",
    "\n",
    "#Compile\n",
    "model_1.compile(loss='binary_crossentropy', optimizer=Adam(learning_rate=lr_init),metrics=['accuracy'])"
   ]
  },
  {
   "cell_type": "code",
   "execution_count": 39,
   "metadata": {},
   "outputs": [
    {
     "name": "stdout",
     "output_type": "stream",
     "text": [
      "Model: \"rcnn_3d_1\"\n",
      "_________________________________________________________________\n",
      "Layer (type)                 Output Shape              Param #   \n",
      "=================================================================\n",
      "input_2 (InputLayer)         [(None, 26, 32, 32, 1)]   0         \n",
      "_________________________________________________________________\n",
      "conv_lst_m2d_8 (ConvLSTM2D)  (None, 26, 32, 32, 32)    38144     \n",
      "_________________________________________________________________\n",
      "average_pooling3d_8 (Average (None, 26, 16, 16, 32)    0         \n",
      "_________________________________________________________________\n",
      "batch_normalization_18 (Batc (None, 26, 16, 16, 32)    128       \n",
      "_________________________________________________________________\n",
      "conv_lst_m2d_9 (ConvLSTM2D)  (None, 26, 16, 16, 64)    98560     \n",
      "_________________________________________________________________\n",
      "average_pooling3d_9 (Average (None, 26, 8, 8, 64)      0         \n",
      "_________________________________________________________________\n",
      "batch_normalization_19 (Batc (None, 26, 8, 8, 64)      256       \n",
      "_________________________________________________________________\n",
      "conv3d_12 (Conv3D)           (None, 26, 8, 8, 128)     65664     \n",
      "_________________________________________________________________\n",
      "max_pooling3d_12 (MaxPooling (None, 13, 4, 4, 128)     0         \n",
      "_________________________________________________________________\n",
      "batch_normalization_20 (Batc (None, 13, 4, 4, 128)     512       \n",
      "_________________________________________________________________\n",
      "conv3d_13 (Conv3D)           (None, 13, 4, 4, 256)     33024     \n",
      "_________________________________________________________________\n",
      "max_pooling3d_13 (MaxPooling (None, 6, 2, 2, 256)      0         \n",
      "_________________________________________________________________\n",
      "batch_normalization_21 (Batc (None, 6, 2, 2, 256)      1024      \n",
      "_________________________________________________________________\n",
      "global_average_pooling3d_5 ( (None, 256)               0         \n",
      "_________________________________________________________________\n",
      "dense_10 (Dense)             (None, 512)               131584    \n",
      "_________________________________________________________________\n",
      "dropout_5 (Dropout)          (None, 512)               0         \n",
      "_________________________________________________________________\n",
      "dense_11 (Dense)             (None, 1)                 513       \n",
      "=================================================================\n",
      "Total params: 369,409\n",
      "Trainable params: 368,449\n",
      "Non-trainable params: 960\n",
      "_________________________________________________________________\n"
     ]
    }
   ],
   "source": [
    "#RCNN 3D\n",
    "model_name = 'rcnn_3d_1'\n",
    "\n",
    "x = ConvLSTM2D(filters=32, kernel_size=3,padding='same', activation='relu',return_sequences=True)(input_3d)\n",
    "x = AveragePooling3D(pool_size=(1,2,2))(x)\n",
    "x = BatchNormalization()(x)\n",
    "\n",
    "x = ConvLSTM2D(filters=64, kernel_size=2,padding='same',activation='relu',return_sequences=True)(x)\n",
    "x = AveragePooling3D(pool_size=(1,2,2))(x)\n",
    "x = BatchNormalization()(x)\n",
    "\n",
    "x = Conv3D(filters=128, kernel_size=2,padding='same', activation='relu')(x)\n",
    "x = MaxPooling3D(2)(x)\n",
    "x = BatchNormalization()(x)\n",
    "\n",
    "x = Conv3D(filters=256, kernel_size=1,padding='same', activation='relu')(x)\n",
    "x = MaxPooling3D(2)(x)\n",
    "x = BatchNormalization()(x)\n",
    "\n",
    "x = GlobalAveragePooling3D()(x)\n",
    "#x = Flatten()(x)\n",
    "x = Dense(units=512, activation='relu')(x)\n",
    "x = Dropout(0.3)(x)\n",
    "\n",
    "output = Dense(1, activation='sigmoid', kernel_initializer='TruncatedNormal')(x)\n",
    "model_2 = Model([input_3d],output,name=model_name)\n",
    "model_2.summary()"
   ]
  },
  {
   "cell_type": "code",
   "execution_count": 40,
   "metadata": {},
   "outputs": [],
   "source": [
    "plot_model(model_2,show_shapes=True,to_file=f'{model_name}.png')\n",
    "system('mv *.png Models/');\n",
    "#Checkpoint and reduce lr\n",
    "reduce_lr = ReduceLROnPlateau(monitor='val_loss', factor=0.2, patience=2, min_lr=1.e-6)\n",
    "checkpoint_cb = ModelCheckpoint(\"conv3d_1.h5\", save_best_only=True)\n",
    "\n",
    "#Compile\n",
    "model_2.compile(loss='binary_crossentropy', optimizer=Adam(learning_rate=lr_init),metrics=['accuracy'])"
   ]
  },
  {
   "cell_type": "code",
   "execution_count": 19,
   "metadata": {},
   "outputs": [
    {
     "name": "stdout",
     "output_type": "stream",
     "text": [
      "8/8 [==============================] - 172s 23s/step - loss: 0.6974 - accuracy: 0.5975 - val_loss: 0.7221 - val_accuracy: 0.5000\n"
     ]
    }
   ],
   "source": [
    "history_1 = model_1.fit(\n",
    "    X_e_train, y_train,\n",
    "    validation_data=(X_e_valid,y_valid),\n",
    "    epochs=epochs,\n",
    "    batch_size=batch_size,\n",
    "    shuffle=True,\n",
    "    callbacks=[checkpoint_cb,reduce_lr],\n",
    "    verbose=1\n",
    ")"
   ]
  },
  {
   "cell_type": "code",
   "execution_count": null,
   "metadata": {},
   "outputs": [],
   "source": [
    "history_2 = model_2.fit(\n",
    "    X_e_train, y_train,\n",
    "    validation_data=(X_e_valid,y_valid),\n",
    "    epochs=epochs,\n",
    "    batch_size=batch_size,\n",
    "    shuffle=True,\n",
    "    callbacks=[checkpoint_cb,reduce_lr],\n",
    "    verbose=1\n",
    ")"
   ]
  },
  {
   "cell_type": "code",
   "execution_count": 20,
   "metadata": {},
   "outputs": [],
   "source": [
    "#Prepare to plot stuff\n",
    "pic.plot_stuff()"
   ]
  },
  {
   "cell_type": "code",
   "execution_count": 26,
   "metadata": {},
   "outputs": [
    {
     "ename": "TypeError",
     "evalue": "plot_history() got an unexpected keyword argument 'fname'",
     "output_type": "error",
     "traceback": [
      "\u001b[0;31m---------------------------------------------------------------------------\u001b[0m",
      "\u001b[0;31mTypeError\u001b[0m                                 Traceback (most recent call last)",
      "\u001b[0;32m/var/folders/1v/zqmq1yrn2x30jzr3z17jlz7m0000gn/T/ipykernel_42148/2552583555.py\u001b[0m in \u001b[0;36m<module>\u001b[0;34m\u001b[0m\n\u001b[0;32m----> 1\u001b[0;31m \u001b[0mpic\u001b[0m\u001b[0;34m.\u001b[0m\u001b[0mplot_history\u001b[0m\u001b[0;34m(\u001b[0m\u001b[0mhistory\u001b[0m\u001b[0;34m,\u001b[0m\u001b[0mmetric\u001b[0m\u001b[0;34m=\u001b[0m\u001b[0;34m'loss'\u001b[0m\u001b[0;34m,\u001b[0m\u001b[0mfname\u001b[0m\u001b[0;34m=\u001b[0m\u001b[0;34mf'history_{model_name}.png'\u001b[0m\u001b[0;34m)\u001b[0m\u001b[0;34m\u001b[0m\u001b[0;34m\u001b[0m\u001b[0m\n\u001b[0m",
      "\u001b[0;31mTypeError\u001b[0m: plot_history() got an unexpected keyword argument 'fname'"
     ]
    }
   ],
   "source": [
    "pic.plot_history(history,metric='loss',save=True,fname=f'history_{model_name}.png')"
   ]
  },
  {
   "cell_type": "code",
   "execution_count": null,
   "metadata": {},
   "outputs": [],
   "source": []
  }
 ],
 "metadata": {
  "interpreter": {
   "hash": "aee8b7b246df8f9039afb4144a1f6fd8d2ca17a180786b69acc140d282b71a49"
  },
  "kernelspec": {
   "display_name": "Python 3.9.8 64-bit",
   "language": "python",
   "name": "python3"
  },
  "language_info": {
   "codemirror_mode": {
    "name": "ipython",
    "version": 3
   },
   "file_extension": ".py",
   "mimetype": "text/x-python",
   "name": "python",
   "nbconvert_exporter": "python",
   "pygments_lexer": "ipython3",
   "version": "3.9.8"
  },
  "orig_nbformat": 4
 },
 "nbformat": 4,
 "nbformat_minor": 2
}
